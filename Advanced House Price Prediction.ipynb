{
 "cells": [
  {
   "cell_type": "markdown",
   "metadata": {
    "id": "Dr6h9vBwdu38"
   },
   "source": [
    "*House price prediction is a significant financial decision for individuals working in the housing market as well as for potential buyers. House prices can be predicted by the given explanatory variables that cover many aspects of residential houses. The goal of this notebook is to create a regression model that is able to accurately estimate the price of the house given the features.*"
   ]
  },
  {
   "cell_type": "markdown",
   "metadata": {
    "id": "Dt3fXEl3Kd3L"
   },
   "source": [
    "## **Loading libraries and data**"
   ]
  },
  {
   "cell_type": "code",
   "execution_count": 1,
   "metadata": {
    "id": "6gCOSE9Ge9_D"
   },
   "outputs": [],
   "source": [
    "#importing libraries\n",
    "import numpy as np\n",
    "import pandas as pd\n",
    "import matplotlib.pyplot as plt\n",
    "import seaborn as sns"
   ]
  },
  {
   "cell_type": "code",
   "execution_count": 2,
   "metadata": {
    "id": "AVZ-yGytf3g4"
   },
   "outputs": [],
   "source": [
    "import warnings\n",
    "warnings.filterwarnings(\"ignore\")"
   ]
  },
  {
   "cell_type": "code",
   "execution_count": 3,
   "metadata": {
    "id": "_AoEOcyVf77S"
   },
   "outputs": [],
   "source": [
    "train = pd.read_csv('train_house.csv')\n",
    "test = pd.read_csv('test_house.csv')"
   ]
  },
  {
   "cell_type": "code",
   "execution_count": 4,
   "metadata": {
    "colab": {
     "base_uri": "https://localhost:8080/",
     "height": 299
    },
    "id": "JfKPL5Y2f6YP",
    "outputId": "1ab3d032-04b4-4a66-8825-f2dd77ef1b41"
   },
   "outputs": [
    {
     "data": {
      "text/html": [
       "<div>\n",
       "<style scoped>\n",
       "    .dataframe tbody tr th:only-of-type {\n",
       "        vertical-align: middle;\n",
       "    }\n",
       "\n",
       "    .dataframe tbody tr th {\n",
       "        vertical-align: top;\n",
       "    }\n",
       "\n",
       "    .dataframe thead th {\n",
       "        text-align: right;\n",
       "    }\n",
       "</style>\n",
       "<table border=\"1\" class=\"dataframe\">\n",
       "  <thead>\n",
       "    <tr style=\"text-align: right;\">\n",
       "      <th></th>\n",
       "      <th>Id</th>\n",
       "      <th>MSSubClass</th>\n",
       "      <th>MSZoning</th>\n",
       "      <th>LotFrontage</th>\n",
       "      <th>LotArea</th>\n",
       "      <th>Street</th>\n",
       "      <th>Alley</th>\n",
       "      <th>LotShape</th>\n",
       "      <th>LandContour</th>\n",
       "      <th>Utilities</th>\n",
       "      <th>...</th>\n",
       "      <th>PoolArea</th>\n",
       "      <th>PoolQC</th>\n",
       "      <th>Fence</th>\n",
       "      <th>MiscFeature</th>\n",
       "      <th>MiscVal</th>\n",
       "      <th>MoSold</th>\n",
       "      <th>YrSold</th>\n",
       "      <th>SaleType</th>\n",
       "      <th>SaleCondition</th>\n",
       "      <th>SalePrice</th>\n",
       "    </tr>\n",
       "  </thead>\n",
       "  <tbody>\n",
       "    <tr>\n",
       "      <th>0</th>\n",
       "      <td>1</td>\n",
       "      <td>60</td>\n",
       "      <td>RL</td>\n",
       "      <td>65.0</td>\n",
       "      <td>8450</td>\n",
       "      <td>Pave</td>\n",
       "      <td>NaN</td>\n",
       "      <td>Reg</td>\n",
       "      <td>Lvl</td>\n",
       "      <td>AllPub</td>\n",
       "      <td>...</td>\n",
       "      <td>0</td>\n",
       "      <td>NaN</td>\n",
       "      <td>NaN</td>\n",
       "      <td>NaN</td>\n",
       "      <td>0</td>\n",
       "      <td>2</td>\n",
       "      <td>2008</td>\n",
       "      <td>WD</td>\n",
       "      <td>Normal</td>\n",
       "      <td>208500</td>\n",
       "    </tr>\n",
       "    <tr>\n",
       "      <th>1</th>\n",
       "      <td>2</td>\n",
       "      <td>20</td>\n",
       "      <td>RL</td>\n",
       "      <td>80.0</td>\n",
       "      <td>9600</td>\n",
       "      <td>Pave</td>\n",
       "      <td>NaN</td>\n",
       "      <td>Reg</td>\n",
       "      <td>Lvl</td>\n",
       "      <td>AllPub</td>\n",
       "      <td>...</td>\n",
       "      <td>0</td>\n",
       "      <td>NaN</td>\n",
       "      <td>NaN</td>\n",
       "      <td>NaN</td>\n",
       "      <td>0</td>\n",
       "      <td>5</td>\n",
       "      <td>2007</td>\n",
       "      <td>WD</td>\n",
       "      <td>Normal</td>\n",
       "      <td>181500</td>\n",
       "    </tr>\n",
       "    <tr>\n",
       "      <th>2</th>\n",
       "      <td>3</td>\n",
       "      <td>60</td>\n",
       "      <td>RL</td>\n",
       "      <td>68.0</td>\n",
       "      <td>11250</td>\n",
       "      <td>Pave</td>\n",
       "      <td>NaN</td>\n",
       "      <td>IR1</td>\n",
       "      <td>Lvl</td>\n",
       "      <td>AllPub</td>\n",
       "      <td>...</td>\n",
       "      <td>0</td>\n",
       "      <td>NaN</td>\n",
       "      <td>NaN</td>\n",
       "      <td>NaN</td>\n",
       "      <td>0</td>\n",
       "      <td>9</td>\n",
       "      <td>2008</td>\n",
       "      <td>WD</td>\n",
       "      <td>Normal</td>\n",
       "      <td>223500</td>\n",
       "    </tr>\n",
       "    <tr>\n",
       "      <th>3</th>\n",
       "      <td>4</td>\n",
       "      <td>70</td>\n",
       "      <td>RL</td>\n",
       "      <td>60.0</td>\n",
       "      <td>9550</td>\n",
       "      <td>Pave</td>\n",
       "      <td>NaN</td>\n",
       "      <td>IR1</td>\n",
       "      <td>Lvl</td>\n",
       "      <td>AllPub</td>\n",
       "      <td>...</td>\n",
       "      <td>0</td>\n",
       "      <td>NaN</td>\n",
       "      <td>NaN</td>\n",
       "      <td>NaN</td>\n",
       "      <td>0</td>\n",
       "      <td>2</td>\n",
       "      <td>2006</td>\n",
       "      <td>WD</td>\n",
       "      <td>Abnorml</td>\n",
       "      <td>140000</td>\n",
       "    </tr>\n",
       "    <tr>\n",
       "      <th>4</th>\n",
       "      <td>5</td>\n",
       "      <td>60</td>\n",
       "      <td>RL</td>\n",
       "      <td>84.0</td>\n",
       "      <td>14260</td>\n",
       "      <td>Pave</td>\n",
       "      <td>NaN</td>\n",
       "      <td>IR1</td>\n",
       "      <td>Lvl</td>\n",
       "      <td>AllPub</td>\n",
       "      <td>...</td>\n",
       "      <td>0</td>\n",
       "      <td>NaN</td>\n",
       "      <td>NaN</td>\n",
       "      <td>NaN</td>\n",
       "      <td>0</td>\n",
       "      <td>12</td>\n",
       "      <td>2008</td>\n",
       "      <td>WD</td>\n",
       "      <td>Normal</td>\n",
       "      <td>250000</td>\n",
       "    </tr>\n",
       "  </tbody>\n",
       "</table>\n",
       "<p>5 rows × 81 columns</p>\n",
       "</div>"
      ],
      "text/plain": [
       "   Id  MSSubClass MSZoning  LotFrontage  LotArea Street Alley LotShape  \\\n",
       "0   1          60       RL         65.0     8450   Pave   NaN      Reg   \n",
       "1   2          20       RL         80.0     9600   Pave   NaN      Reg   \n",
       "2   3          60       RL         68.0    11250   Pave   NaN      IR1   \n",
       "3   4          70       RL         60.0     9550   Pave   NaN      IR1   \n",
       "4   5          60       RL         84.0    14260   Pave   NaN      IR1   \n",
       "\n",
       "  LandContour Utilities  ... PoolArea PoolQC Fence MiscFeature MiscVal MoSold  \\\n",
       "0         Lvl    AllPub  ...        0    NaN   NaN         NaN       0      2   \n",
       "1         Lvl    AllPub  ...        0    NaN   NaN         NaN       0      5   \n",
       "2         Lvl    AllPub  ...        0    NaN   NaN         NaN       0      9   \n",
       "3         Lvl    AllPub  ...        0    NaN   NaN         NaN       0      2   \n",
       "4         Lvl    AllPub  ...        0    NaN   NaN         NaN       0     12   \n",
       "\n",
       "  YrSold  SaleType  SaleCondition  SalePrice  \n",
       "0   2008        WD         Normal     208500  \n",
       "1   2007        WD         Normal     181500  \n",
       "2   2008        WD         Normal     223500  \n",
       "3   2006        WD        Abnorml     140000  \n",
       "4   2008        WD         Normal     250000  \n",
       "\n",
       "[5 rows x 81 columns]"
      ]
     },
     "execution_count": 4,
     "metadata": {},
     "output_type": "execute_result"
    }
   ],
   "source": [
    "train.head()"
   ]
  },
  {
   "cell_type": "code",
   "execution_count": 5,
   "metadata": {
    "colab": {
     "base_uri": "https://localhost:8080/"
    },
    "id": "tVKh6kHLgHk3",
    "outputId": "4fb13f0b-2615-4f09-9ff1-c9685381c4d9"
   },
   "outputs": [
    {
     "data": {
      "text/plain": [
       "Id                 int64\n",
       "MSSubClass         int64\n",
       "MSZoning          object\n",
       "LotFrontage      float64\n",
       "LotArea            int64\n",
       "                  ...   \n",
       "MoSold             int64\n",
       "YrSold             int64\n",
       "SaleType          object\n",
       "SaleCondition     object\n",
       "SalePrice          int64\n",
       "Length: 81, dtype: object"
      ]
     },
     "execution_count": 5,
     "metadata": {},
     "output_type": "execute_result"
    }
   ],
   "source": [
    "train.dtypes"
   ]
  },
  {
   "cell_type": "code",
   "execution_count": 6,
   "metadata": {
    "colab": {
     "base_uri": "https://localhost:8080/"
    },
    "id": "ZR53HdmwgPCa",
    "outputId": "151bfe56-1048-4f99-fcfb-e1a94e6c21d9"
   },
   "outputs": [
    {
     "name": "stdout",
     "output_type": "stream",
     "text": [
      "<class 'pandas.core.frame.DataFrame'>\n",
      "RangeIndex: 1460 entries, 0 to 1459\n",
      "Data columns (total 81 columns):\n",
      " #   Column         Non-Null Count  Dtype  \n",
      "---  ------         --------------  -----  \n",
      " 0   Id             1460 non-null   int64  \n",
      " 1   MSSubClass     1460 non-null   int64  \n",
      " 2   MSZoning       1460 non-null   object \n",
      " 3   LotFrontage    1201 non-null   float64\n",
      " 4   LotArea        1460 non-null   int64  \n",
      " 5   Street         1460 non-null   object \n",
      " 6   Alley          91 non-null     object \n",
      " 7   LotShape       1460 non-null   object \n",
      " 8   LandContour    1460 non-null   object \n",
      " 9   Utilities      1460 non-null   object \n",
      " 10  LotConfig      1460 non-null   object \n",
      " 11  LandSlope      1460 non-null   object \n",
      " 12  Neighborhood   1460 non-null   object \n",
      " 13  Condition1     1460 non-null   object \n",
      " 14  Condition2     1460 non-null   object \n",
      " 15  BldgType       1460 non-null   object \n",
      " 16  HouseStyle     1460 non-null   object \n",
      " 17  OverallQual    1460 non-null   int64  \n",
      " 18  OverallCond    1460 non-null   int64  \n",
      " 19  YearBuilt      1460 non-null   int64  \n",
      " 20  YearRemodAdd   1460 non-null   int64  \n",
      " 21  RoofStyle      1460 non-null   object \n",
      " 22  RoofMatl       1460 non-null   object \n",
      " 23  Exterior1st    1460 non-null   object \n",
      " 24  Exterior2nd    1460 non-null   object \n",
      " 25  MasVnrType     1452 non-null   object \n",
      " 26  MasVnrArea     1452 non-null   float64\n",
      " 27  ExterQual      1460 non-null   object \n",
      " 28  ExterCond      1460 non-null   object \n",
      " 29  Foundation     1460 non-null   object \n",
      " 30  BsmtQual       1423 non-null   object \n",
      " 31  BsmtCond       1423 non-null   object \n",
      " 32  BsmtExposure   1422 non-null   object \n",
      " 33  BsmtFinType1   1423 non-null   object \n",
      " 34  BsmtFinSF1     1460 non-null   int64  \n",
      " 35  BsmtFinType2   1422 non-null   object \n",
      " 36  BsmtFinSF2     1460 non-null   int64  \n",
      " 37  BsmtUnfSF      1460 non-null   int64  \n",
      " 38  TotalBsmtSF    1460 non-null   int64  \n",
      " 39  Heating        1460 non-null   object \n",
      " 40  HeatingQC      1460 non-null   object \n",
      " 41  CentralAir     1460 non-null   object \n",
      " 42  Electrical     1459 non-null   object \n",
      " 43  1stFlrSF       1460 non-null   int64  \n",
      " 44  2ndFlrSF       1460 non-null   int64  \n",
      " 45  LowQualFinSF   1460 non-null   int64  \n",
      " 46  GrLivArea      1460 non-null   int64  \n",
      " 47  BsmtFullBath   1460 non-null   int64  \n",
      " 48  BsmtHalfBath   1460 non-null   int64  \n",
      " 49  FullBath       1460 non-null   int64  \n",
      " 50  HalfBath       1460 non-null   int64  \n",
      " 51  BedroomAbvGr   1460 non-null   int64  \n",
      " 52  KitchenAbvGr   1460 non-null   int64  \n",
      " 53  KitchenQual    1460 non-null   object \n",
      " 54  TotRmsAbvGrd   1460 non-null   int64  \n",
      " 55  Functional     1460 non-null   object \n",
      " 56  Fireplaces     1460 non-null   int64  \n",
      " 57  FireplaceQu    770 non-null    object \n",
      " 58  GarageType     1379 non-null   object \n",
      " 59  GarageYrBlt    1379 non-null   float64\n",
      " 60  GarageFinish   1379 non-null   object \n",
      " 61  GarageCars     1460 non-null   int64  \n",
      " 62  GarageArea     1460 non-null   int64  \n",
      " 63  GarageQual     1379 non-null   object \n",
      " 64  GarageCond     1379 non-null   object \n",
      " 65  PavedDrive     1460 non-null   object \n",
      " 66  WoodDeckSF     1460 non-null   int64  \n",
      " 67  OpenPorchSF    1460 non-null   int64  \n",
      " 68  EnclosedPorch  1460 non-null   int64  \n",
      " 69  3SsnPorch      1460 non-null   int64  \n",
      " 70  ScreenPorch    1460 non-null   int64  \n",
      " 71  PoolArea       1460 non-null   int64  \n",
      " 72  PoolQC         7 non-null      object \n",
      " 73  Fence          281 non-null    object \n",
      " 74  MiscFeature    54 non-null     object \n",
      " 75  MiscVal        1460 non-null   int64  \n",
      " 76  MoSold         1460 non-null   int64  \n",
      " 77  YrSold         1460 non-null   int64  \n",
      " 78  SaleType       1460 non-null   object \n",
      " 79  SaleCondition  1460 non-null   object \n",
      " 80  SalePrice      1460 non-null   int64  \n",
      "dtypes: float64(3), int64(35), object(43)\n",
      "memory usage: 924.0+ KB\n"
     ]
    }
   ],
   "source": [
    "train.info()"
   ]
  },
  {
   "cell_type": "code",
   "execution_count": 7,
   "metadata": {
    "colab": {
     "base_uri": "https://localhost:8080/",
     "height": 348
    },
    "id": "VDV6KqjYgR5m",
    "outputId": "f8e884fa-13d4-4c1d-b69d-e75f6e09b06d"
   },
   "outputs": [
    {
     "data": {
      "text/plain": [
       "<AxesSubplot:>"
      ]
     },
     "execution_count": 7,
     "metadata": {},
     "output_type": "execute_result"
    },
    {
     "data": {
      "image/png": "[encoded data removed]",
      "text/plain": [
       "<Figure size 432x288 with 1 Axes>"
      ]
     },
     "metadata": {
      "needs_background": "light"
     },
     "output_type": "display_data"
    }
   ],
   "source": [
    "sns.heatmap(train.isnull(),yticklabels=False,cbar=False)"
   ]
  },
  {
   "cell_type": "code",
   "execution_count": 8,
   "metadata": {
    "colab": {
     "base_uri": "https://localhost:8080/"
    },
    "id": "Z-IG-u-h1RI5",
    "outputId": "b705e5cb-199d-4671-e988-c72e0dd6b780"
   },
   "outputs": [
    {
     "data": {
      "text/plain": [
       "PoolQC         1453\n",
       "MiscFeature    1406\n",
       "Alley          1369\n",
       "Fence          1179\n",
       "FireplaceQu     690\n",
       "               ... \n",
       "ExterQual         0\n",
       "Exterior2nd       0\n",
       "Exterior1st       0\n",
       "RoofMatl          0\n",
       "SalePrice         0\n",
       "Length: 81, dtype: int64"
      ]
     },
     "execution_count": 8,
     "metadata": {},
     "output_type": "execute_result"
    }
   ],
   "source": [
    "train.isnull().sum().sort_values(ascending = False)"
   ]
  },
  {
   "cell_type": "markdown",
   "metadata": {
    "id": "WpvHr17-8t0D"
   },
   "source": [
    "Some features have missing values."
   ]
  },
  {
   "cell_type": "markdown",
   "metadata": {
    "id": "8XGUlIYOgd6G"
   },
   "source": [
    "### **Data Preprocessing**"
   ]
  },
  {
   "cell_type": "markdown",
   "metadata": {
    "id": "tv2SRAzof9bh"
   },
   "source": [
    "**Missing Values**"
   ]
  },
  {
   "cell_type": "markdown",
   "metadata": {
    "id": "LSOQ2K72gl8A"
   },
   "source": [
    "There are many missing values in various columns. We need to impute some of them. Let's check missing value percentages."
   ]
  },
  {
   "cell_type": "code",
   "execution_count": 9,
   "metadata": {
    "colab": {
     "base_uri": "https://localhost:8080/"
    },
    "id": "apjyOz4vgbjH",
    "outputId": "34a6b2f7-7890-46f7-b2bf-4e647c813815"
   },
   "outputs": [
    {
     "name": "stdout",
     "output_type": "stream",
     "text": [
      "LotFrontage 0.1774  % missing values.\n",
      "\n",
      "Alley 0.9377  % missing values.\n",
      "\n",
      "MasVnrType 0.0055  % missing values.\n",
      "\n",
      "MasVnrArea 0.0055  % missing values.\n",
      "\n",
      "BsmtQual 0.0253  % missing values.\n",
      "\n",
      "BsmtCond 0.0253  % missing values.\n",
      "\n",
      "BsmtExposure 0.026  % missing values.\n",
      "\n",
      "BsmtFinType1 0.0253  % missing values.\n",
      "\n",
      "BsmtFinType2 0.026  % missing values.\n",
      "\n",
      "FireplaceQu 0.4726  % missing values.\n",
      "\n",
      "GarageType 0.0555  % missing values.\n",
      "\n",
      "GarageYrBlt 0.0555  % missing values.\n",
      "\n",
      "GarageFinish 0.0555  % missing values.\n",
      "\n",
      "GarageQual 0.0555  % missing values.\n",
      "\n",
      "GarageCond 0.0555  % missing values.\n",
      "\n",
      "PoolQC 0.9952  % missing values.\n",
      "\n",
      "Fence 0.8075  % missing values.\n",
      "\n",
      "MiscFeature 0.963  % missing values.\n",
      "\n"
     ]
    }
   ],
   "source": [
    "features=[features for features in train.columns if train[features].isnull().sum()>1]\n",
    "for feature in features:\n",
    "    print(feature, np.round(train[feature].isnull().mean(), 4),  ' % missing values.\\n')"
   ]
  },
  {
   "cell_type": "code",
   "execution_count": 10,
   "metadata": {
    "id": "dRP8YO1pgvOy"
   },
   "outputs": [],
   "source": [
    "#remove features with more than 20 percent missing values.\n",
    "train=train.drop(['MiscFeature','Fence','PoolQC','FireplaceQu','Alley'],1)\n",
    "#remove ID column since it has unique values which are not important to our predicitive model.\n",
    "train=train.drop(['Id'],1)"
   ]
  },
  {
   "cell_type": "code",
   "execution_count": 11,
   "metadata": {
    "id": "unIEx5aGgz8l"
   },
   "outputs": [],
   "source": [
    "test=test.drop(['MiscFeature','Fence','PoolQC','FireplaceQu','Alley'],1)\n",
    "#remove ID column since it has unique values which are not important to our predicitive model.\n",
    "test=test.drop(['Id'],1)"
   ]
  },
  {
   "cell_type": "markdown",
   "metadata": {
    "id": "XilPxwAShx61"
   },
   "source": [
    "There are numerical and categorical variables in this dataset. So lets first see some descriptive statistics about categorical variables."
   ]
  },
  {
   "cell_type": "code",
   "execution_count": 12,
   "metadata": {
    "colab": {
     "base_uri": "https://localhost:8080/"
    },
    "id": "u1BYE3xNg139",
    "outputId": "dbc43896-b207-4994-a760-61ccc940fbf9"
   },
   "outputs": [
    {
     "name": "stdout",
     "output_type": "stream",
     "text": [
      "The dataset contains 38 categorical columns\n"
     ]
    }
   ],
   "source": [
    "categorical_cols_train= train.select_dtypes(include=['object'])\n",
    "\n",
    "print(f'The dataset contains {len(categorical_cols_train.columns.tolist())} categorical columns')"
   ]
  },
  {
   "cell_type": "code",
   "execution_count": 13,
   "metadata": {
    "colab": {
     "base_uri": "https://localhost:8080/",
     "height": 268
    },
    "id": "1l2DwsGeh1OH",
    "outputId": "11542a3f-67bc-4248-91aa-91e7fe2dbdfd"
   },
   "outputs": [
    {
     "data": {
      "text/html": [
       "<div>\n",
       "<style scoped>\n",
       "    .dataframe tbody tr th:only-of-type {\n",
       "        vertical-align: middle;\n",
       "    }\n",
       "\n",
       "    .dataframe tbody tr th {\n",
       "        vertical-align: top;\n",
       "    }\n",
       "\n",
       "    .dataframe thead th {\n",
       "        text-align: right;\n",
       "    }\n",
       "</style>\n",
       "<table border=\"1\" class=\"dataframe\">\n",
       "  <thead>\n",
       "    <tr style=\"text-align: right;\">\n",
       "      <th></th>\n",
       "      <th>MSZoning</th>\n",
       "      <th>Street</th>\n",
       "      <th>LotShape</th>\n",
       "      <th>LandContour</th>\n",
       "      <th>Utilities</th>\n",
       "      <th>LotConfig</th>\n",
       "      <th>LandSlope</th>\n",
       "      <th>Neighborhood</th>\n",
       "      <th>Condition1</th>\n",
       "      <th>Condition2</th>\n",
       "      <th>...</th>\n",
       "      <th>Electrical</th>\n",
       "      <th>KitchenQual</th>\n",
       "      <th>Functional</th>\n",
       "      <th>GarageType</th>\n",
       "      <th>GarageFinish</th>\n",
       "      <th>GarageQual</th>\n",
       "      <th>GarageCond</th>\n",
       "      <th>PavedDrive</th>\n",
       "      <th>SaleType</th>\n",
       "      <th>SaleCondition</th>\n",
       "    </tr>\n",
       "  </thead>\n",
       "  <tbody>\n",
       "    <tr>\n",
       "      <th>count</th>\n",
       "      <td>1460</td>\n",
       "      <td>1460</td>\n",
       "      <td>1460</td>\n",
       "      <td>1460</td>\n",
       "      <td>1460</td>\n",
       "      <td>1460</td>\n",
       "      <td>1460</td>\n",
       "      <td>1460</td>\n",
       "      <td>1460</td>\n",
       "      <td>1460</td>\n",
       "      <td>...</td>\n",
       "      <td>1459</td>\n",
       "      <td>1460</td>\n",
       "      <td>1460</td>\n",
       "      <td>1379</td>\n",
       "      <td>1379</td>\n",
       "      <td>1379</td>\n",
       "      <td>1379</td>\n",
       "      <td>1460</td>\n",
       "      <td>1460</td>\n",
       "      <td>1460</td>\n",
       "    </tr>\n",
       "    <tr>\n",
       "      <th>unique</th>\n",
       "      <td>5</td>\n",
       "      <td>2</td>\n",
       "      <td>4</td>\n",
       "      <td>4</td>\n",
       "      <td>2</td>\n",
       "      <td>5</td>\n",
       "      <td>3</td>\n",
       "      <td>25</td>\n",
       "      <td>9</td>\n",
       "      <td>8</td>\n",
       "      <td>...</td>\n",
       "      <td>5</td>\n",
       "      <td>4</td>\n",
       "      <td>7</td>\n",
       "      <td>6</td>\n",
       "      <td>3</td>\n",
       "      <td>5</td>\n",
       "      <td>5</td>\n",
       "      <td>3</td>\n",
       "      <td>9</td>\n",
       "      <td>6</td>\n",
       "    </tr>\n",
       "    <tr>\n",
       "      <th>top</th>\n",
       "      <td>RL</td>\n",
       "      <td>Pave</td>\n",
       "      <td>Reg</td>\n",
       "      <td>Lvl</td>\n",
       "      <td>AllPub</td>\n",
       "      <td>Inside</td>\n",
       "      <td>Gtl</td>\n",
       "      <td>NAmes</td>\n",
       "      <td>Norm</td>\n",
       "      <td>Norm</td>\n",
       "      <td>...</td>\n",
       "      <td>SBrkr</td>\n",
       "      <td>TA</td>\n",
       "      <td>Typ</td>\n",
       "      <td>Attchd</td>\n",
       "      <td>Unf</td>\n",
       "      <td>TA</td>\n",
       "      <td>TA</td>\n",
       "      <td>Y</td>\n",
       "      <td>WD</td>\n",
       "      <td>Normal</td>\n",
       "    </tr>\n",
       "    <tr>\n",
       "      <th>freq</th>\n",
       "      <td>1151</td>\n",
       "      <td>1454</td>\n",
       "      <td>925</td>\n",
       "      <td>1311</td>\n",
       "      <td>1459</td>\n",
       "      <td>1052</td>\n",
       "      <td>1382</td>\n",
       "      <td>225</td>\n",
       "      <td>1260</td>\n",
       "      <td>1445</td>\n",
       "      <td>...</td>\n",
       "      <td>1334</td>\n",
       "      <td>735</td>\n",
       "      <td>1360</td>\n",
       "      <td>870</td>\n",
       "      <td>605</td>\n",
       "      <td>1311</td>\n",
       "      <td>1326</td>\n",
       "      <td>1340</td>\n",
       "      <td>1267</td>\n",
       "      <td>1198</td>\n",
       "    </tr>\n",
       "  </tbody>\n",
       "</table>\n",
       "<p>4 rows × 38 columns</p>\n",
       "</div>"
      ],
      "text/plain": [
       "       MSZoning Street LotShape LandContour Utilities LotConfig LandSlope  \\\n",
       "count      1460   1460     1460        1460      1460      1460      1460   \n",
       "unique        5      2        4           4         2         5         3   \n",
       "top          RL   Pave      Reg         Lvl    AllPub    Inside       Gtl   \n",
       "freq       1151   1454      925        1311      1459      1052      1382   \n",
       "\n",
       "       Neighborhood Condition1 Condition2  ... Electrical KitchenQual  \\\n",
       "count          1460       1460       1460  ...       1459        1460   \n",
       "unique           25          9          8  ...          5           4   \n",
       "top           NAmes       Norm       Norm  ...      SBrkr          TA   \n",
       "freq            225       1260       1445  ...       1334         735   \n",
       "\n",
       "       Functional GarageType GarageFinish GarageQual GarageCond PavedDrive  \\\n",
       "count        1460       1379         1379       1379       1379       1460   \n",
       "unique          7          6            3          5          5          3   \n",
       "top           Typ     Attchd          Unf         TA         TA          Y   \n",
       "freq         1360        870          605       1311       1326       1340   \n",
       "\n",
       "       SaleType SaleCondition  \n",
       "count      1460          1460  \n",
       "unique        9             6  \n",
       "top          WD        Normal  \n",
       "freq       1267          1198  \n",
       "\n",
       "[4 rows x 38 columns]"
      ]
     },
     "execution_count": 13,
     "metadata": {},
     "output_type": "execute_result"
    }
   ],
   "source": [
    "categorical_cols_train.describe()"
   ]
  },
  {
   "cell_type": "markdown",
   "metadata": {
    "id": "Mr8CiScRiDI2"
   },
   "source": [
    "Since there are very less number of missing values in categorical variables, we will impute that using mode."
   ]
  },
  {
   "cell_type": "code",
   "execution_count": 14,
   "metadata": {
    "colab": {
     "base_uri": "https://localhost:8080/"
    },
    "id": "CVREP8PDh5dQ",
    "outputId": "069a1d4f-1580-4d64-9b11-55e44eae642e"
   },
   "outputs": [
    {
     "data": {
      "text/plain": [
       "Index(['MasVnrType', 'BsmtQual', 'BsmtCond', 'BsmtExposure', 'BsmtFinType1',\n",
       "       'BsmtFinType2', 'Electrical', 'GarageType', 'GarageFinish',\n",
       "       'GarageQual', 'GarageCond'],\n",
       "      dtype='object')"
      ]
     },
     "execution_count": 14,
     "metadata": {},
     "output_type": "execute_result"
    }
   ],
   "source": [
    "categorical_cols_missing = categorical_cols_train.columns[categorical_cols_train.isnull().any()]\n",
    "categorical_cols_missing\n",
    "#there are some observations as none which are not missing values. "
   ]
  },
  {
   "cell_type": "code",
   "execution_count": 15,
   "metadata": {
    "id": "q1aiaTjGiI-W"
   },
   "outputs": [],
   "source": [
    "from sklearn.impute import SimpleImputer\n",
    "categoricalImputer = SimpleImputer(missing_values = np.NaN,strategy = 'most_frequent')\n",
    "for feature in categorical_cols_missing:\n",
    "     categorical_cols_train[feature] = categoricalImputer.fit_transform(categorical_cols_train[feature].values.reshape(-1,1))\n",
    "     train[feature] = categoricalImputer.fit_transform(train[feature].values.reshape(-1,1))"
   ]
  },
  {
   "cell_type": "code",
   "execution_count": 16,
   "metadata": {
    "id": "vL5vmCS6iXOD"
   },
   "outputs": [],
   "source": [
    "#For the test set\n",
    "categorical_cols_missing_test = ['MasVnrType','BsmtQual','BsmtCond','BsmtExposure',\n",
    "'BsmtFinType1','BsmtFinType2','Electrical','GarageType','GarageFinish',\n",
    "'GarageQual','GarageCond']\n",
    "\n",
    "for features in categorical_cols_missing_test:\n",
    "  test[features] = test[features].fillna(train[features].mode()[0])"
   ]
  },
  {
   "cell_type": "code",
   "execution_count": 17,
   "metadata": {
    "colab": {
     "base_uri": "https://localhost:8080/",
     "height": 347
    },
    "id": "QNAxQLN9i9z9",
    "outputId": "69abca03-ec28-4cfa-bb17-5824683e754b"
   },
   "outputs": [
    {
     "data": {
      "text/plain": [
       "<AxesSubplot:>"
      ]
     },
     "execution_count": 17,
     "metadata": {},
     "output_type": "execute_result"
    },
    {
     "data": {
      "image/png": "[encoded data removed]",
      "text/plain": [
       "<Figure size 432x288 with 1 Axes>"
      ]
     },
     "metadata": {
      "needs_background": "light"
     },
     "output_type": "display_data"
    }
   ],
   "source": [
    "sns.heatmap(train.isnull(),yticklabels=False,cbar=False)\n"
   ]
  },
  {
   "cell_type": "code",
   "execution_count": 18,
   "metadata": {
    "colab": {
     "base_uri": "https://localhost:8080/"
    },
    "id": "0Ld9GfYajUBL",
    "outputId": "e06b4d33-b630-46f8-a918-2e187c731294"
   },
   "outputs": [
    {
     "data": {
      "text/plain": [
       "Index(['LotFrontage', 'MasVnrArea', 'GarageYrBlt'], dtype='object')"
      ]
     },
     "execution_count": 18,
     "metadata": {},
     "output_type": "execute_result"
    }
   ],
   "source": [
    "train.columns[train.isnull().any()]"
   ]
  },
  {
   "cell_type": "code",
   "execution_count": 19,
   "metadata": {
    "colab": {
     "base_uri": "https://localhost:8080/",
     "height": 282
    },
    "id": "J_qKdlygjfLl",
    "outputId": "fc148194-bdec-433e-a048-3046a3feb33d"
   },
   "outputs": [
    {
     "data": {
      "text/plain": [
       "<AxesSubplot:>"
      ]
     },
     "execution_count": 19,
     "metadata": {},
     "output_type": "execute_result"
    },
    {
     "data": {
      "image/png": "[encoded data removed]",
      "text/plain": [
       "<Figure size 432x288 with 1 Axes>"
      ]
     },
     "metadata": {
      "needs_background": "light"
     },
     "output_type": "display_data"
    }
   ],
   "source": [
    "train['LotFrontage'].hist(bins = 50)"
   ]
  },
  {
   "cell_type": "code",
   "execution_count": 20,
   "metadata": {
    "colab": {
     "base_uri": "https://localhost:8080/"
    },
    "id": "-I41suEQjhtG",
    "outputId": "0bbb750b-bf3a-4a34-c78b-a30b4e550981"
   },
   "outputs": [
    {
     "data": {
      "text/plain": [
       "count    1201.000000\n",
       "mean       70.049958\n",
       "std        24.284752\n",
       "min        21.000000\n",
       "25%        59.000000\n",
       "50%        69.000000\n",
       "75%        80.000000\n",
       "max       313.000000\n",
       "Name: LotFrontage, dtype: float64"
      ]
     },
     "execution_count": 20,
     "metadata": {},
     "output_type": "execute_result"
    }
   ],
   "source": [
    "train['LotFrontage'].describe()"
   ]
  },
  {
   "cell_type": "markdown",
   "metadata": {
    "id": "TfzAb1ofkVbv"
   },
   "source": [
    "Here we impute the missing values in this variable with values in between 25th percentile and 75th percentile randomly."
   ]
  },
  {
   "cell_type": "code",
   "execution_count": 21,
   "metadata": {
    "id": "mHVc4vSujkYD"
   },
   "outputs": [],
   "source": [
    "train['LotFrontage'].fillna(np.random.randint(59,80), inplace = True)"
   ]
  },
  {
   "cell_type": "code",
   "execution_count": 22,
   "metadata": {
    "id": "56DEnPT2kb0t"
   },
   "outputs": [],
   "source": [
    "test['LotFrontage'].fillna(np.random.randint(59,80), inplace = True)"
   ]
  },
  {
   "cell_type": "code",
   "execution_count": 23,
   "metadata": {
    "colab": {
     "base_uri": "https://localhost:8080/",
     "height": 282
    },
    "id": "YNI0Pkb2keXR",
    "outputId": "1d7b5940-d7c6-4cbf-81c5-d9256154ec95"
   },
   "outputs": [
    {
     "data": {
      "text/plain": [
       "<AxesSubplot:>"
      ]
     },
     "execution_count": 23,
     "metadata": {},
     "output_type": "execute_result"
    },
    {
     "data": {
      "image/png": "[encoded data removed]",
      "text/plain": [
       "<Figure size 432x288 with 1 Axes>"
      ]
     },
     "metadata": {
      "needs_background": "light"
     },
     "output_type": "display_data"
    }
   ],
   "source": [
    "train['MasVnrArea'].hist(bins = 50)"
   ]
  },
  {
   "cell_type": "code",
   "execution_count": 24,
   "metadata": {
    "colab": {
     "base_uri": "https://localhost:8080/"
    },
    "id": "vg3Rot65kjyu",
    "outputId": "e64c1b00-3819-41e5-c66f-d945c146ee99"
   },
   "outputs": [
    {
     "data": {
      "text/plain": [
       "count    1452.000000\n",
       "mean      103.685262\n",
       "std       181.066207\n",
       "min         0.000000\n",
       "25%         0.000000\n",
       "50%         0.000000\n",
       "75%       166.000000\n",
       "max      1600.000000\n",
       "Name: MasVnrArea, dtype: float64"
      ]
     },
     "execution_count": 24,
     "metadata": {},
     "output_type": "execute_result"
    }
   ],
   "source": [
    "train['MasVnrArea'].describe()"
   ]
  },
  {
   "cell_type": "markdown",
   "metadata": {
    "id": "O6W3-w6dkn6-"
   },
   "source": [
    "Although the distribution is skewed mean and median values are both zero. Hence we will impute these missing values with zero."
   ]
  },
  {
   "cell_type": "code",
   "execution_count": 25,
   "metadata": {
    "id": "1b9XJXrkkmIY"
   },
   "outputs": [],
   "source": [
    "train['MasVnrArea'].fillna(0, inplace = True)\n",
    "test['MasVnrArea'].fillna(0, inplace = True)"
   ]
  },
  {
   "cell_type": "markdown",
   "metadata": {
    "id": "17NRPW7xkyg1"
   },
   "source": [
    "We will remove the 'GarageYrBlt' variable. Since it is difficult to impute date values correctly."
   ]
  },
  {
   "cell_type": "code",
   "execution_count": 26,
   "metadata": {
    "id": "0dHwwTPekwvj"
   },
   "outputs": [],
   "source": [
    "train=train.drop(['GarageYrBlt'],1)\n",
    "test=test.drop(['GarageYrBlt'],1)"
   ]
  },
  {
   "cell_type": "code",
   "execution_count": 27,
   "metadata": {
    "colab": {
     "base_uri": "https://localhost:8080/"
    },
    "id": "lMPmVVdsk2Hn",
    "outputId": "fda57854-397f-4b5a-ad3d-49f9594fa620"
   },
   "outputs": [
    {
     "name": "stdout",
     "output_type": "stream",
     "text": [
      "No missing values in training set\n"
     ]
    }
   ],
   "source": [
    "features=[features for features in train.columns if train[features].isnull().sum()>1]\n",
    "if len(features)==0:\n",
    "    print(\"No missing values in training set\")"
   ]
  },
  {
   "cell_type": "code",
   "execution_count": 28,
   "metadata": {
    "colab": {
     "base_uri": "https://localhost:8080/"
    },
    "id": "zz7CVcBCk5Ew",
    "outputId": "cd1d47b1-b5b4-4a7e-9844-7e2837062c3d"
   },
   "outputs": [
    {
     "data": {
      "text/plain": [
       "Index(['MSZoning', 'Utilities', 'Exterior1st', 'Exterior2nd', 'BsmtFinSF1',\n",
       "       'BsmtFinSF2', 'BsmtUnfSF', 'TotalBsmtSF', 'BsmtFullBath',\n",
       "       'BsmtHalfBath', 'KitchenQual', 'Functional', 'GarageCars', 'GarageArea',\n",
       "       'SaleType'],\n",
       "      dtype='object')"
      ]
     },
     "execution_count": 28,
     "metadata": {},
     "output_type": "execute_result"
    }
   ],
   "source": [
    "test.columns[test.isnull().any()]"
   ]
  },
  {
   "cell_type": "markdown",
   "metadata": {
    "id": "e2QJlSG7k9Ge"
   },
   "source": [
    "There are variables containing missing values although there were not in training set. Here we impute them using train set values."
   ]
  },
  {
   "cell_type": "code",
   "execution_count": 29,
   "metadata": {
    "id": "wk_jUnFak7oy"
   },
   "outputs": [],
   "source": [
    "test['MSZoning']=test['MSZoning'].fillna(train['MSZoning'].mode()[0])\n",
    "test['Utilities']=test['Utilities'].fillna(train['Utilities'].mode()[0])\n",
    "test['Exterior1st']=test['Exterior1st'].fillna(train['Exterior1st'].mode()[0])\n",
    "test['Exterior2nd']=test['Exterior2nd'].fillna(train['Exterior2nd'].mode()[0])\n",
    "test['BsmtFinSF1']=test['BsmtFinSF1'].fillna(train['BsmtFinSF1'].mean())\n",
    "test['BsmtFinSF2']=test['BsmtFinSF2'].fillna(train['BsmtFinSF2'].mean())\n",
    "test['BsmtUnfSF']=test['BsmtUnfSF'].fillna(train['BsmtUnfSF'].mean())\n",
    "test['TotalBsmtSF']=test['TotalBsmtSF'].fillna(train['TotalBsmtSF'].mean())\n",
    "test['BsmtFullBath']=test['BsmtFullBath'].fillna(train['BsmtFullBath'].mean())\n",
    "test['KitchenQual']=test['KitchenQual'].fillna(train['KitchenQual'].mode()[0])\n",
    "test['Functional']=test['Functional'].fillna(train['Functional'].mode()[0])\n",
    "test['GarageCars']=test['GarageCars'].fillna(train['GarageCars'].mean())\n",
    "test['GarageArea']=test['GarageArea'].fillna(train['GarageArea'].mean())\n",
    "test['SaleType']=test['SaleType'].fillna(train['SaleType'].mode()[0])\n",
    "test['BsmtHalfBath']=test['BsmtHalfBath'].fillna(train['BsmtHalfBath'].mean())"
   ]
  },
  {
   "cell_type": "code",
   "execution_count": 30,
   "metadata": {
    "colab": {
     "base_uri": "https://localhost:8080/"
    },
    "id": "vxxbjLRik-cD",
    "outputId": "4d0bf31d-4fdd-40b1-db6c-50a58c82cb9a"
   },
   "outputs": [
    {
     "name": "stdout",
     "output_type": "stream",
     "text": [
      "No missing values in test set\n"
     ]
    }
   ],
   "source": [
    "features=[features for features in test.columns if test[features].isnull().sum()>1]\n",
    "if len(features)==0:\n",
    "    print(\"No missing values in test set\")\n",
    "else:\n",
    "    print(\"there are missing values in test set\")"
   ]
  },
  {
   "cell_type": "markdown",
   "metadata": {
    "id": "mB0ECzjNlTih"
   },
   "source": [
    "Missing values have been imputed with different techniques and the variables with more than 20 percent missing values have been removed. "
   ]
  },
  {
   "cell_type": "markdown",
   "metadata": {
    "id": "cQp63uTXFYVz"
   },
   "source": [
    "Now, let's look at the correlations."
   ]
  },
  {
   "cell_type": "markdown",
   "metadata": {
    "id": "SXgWAkLeFl64"
   },
   "source": [
    "Since we have to predict the **'SalePrice'**, let's analyze it first."
   ]
  },
  {
   "cell_type": "code",
   "execution_count": 31,
   "metadata": {
    "colab": {
     "base_uri": "https://localhost:8080/"
    },
    "id": "N7g6P1GxlPsU",
    "outputId": "ac07837a-a8ee-4a77-f592-92738773efdf"
   },
   "outputs": [
    {
     "data": {
      "text/plain": [
       "count      1460.000000\n",
       "mean     180921.195890\n",
       "std       79442.502883\n",
       "min       34900.000000\n",
       "25%      129975.000000\n",
       "50%      163000.000000\n",
       "75%      214000.000000\n",
       "max      755000.000000\n",
       "Name: SalePrice, dtype: float64"
      ]
     },
     "execution_count": 31,
     "metadata": {},
     "output_type": "execute_result"
    }
   ],
   "source": [
    "# response/dependent variable\n",
    "train['SalePrice'].describe()"
   ]
  },
  {
   "cell_type": "code",
   "execution_count": 32,
   "metadata": {
    "colab": {
     "base_uri": "https://localhost:8080/",
     "height": 290
    },
    "id": "g5Y4la3xlUI9",
    "outputId": "f587304e-3d04-4590-dc12-ddf971e46e45"
   },
   "outputs": [
    {
     "data": {
      "image/png": "[encoded data removed]",
      "text/plain": [
       "<Figure size 432x288 with 1 Axes>"
      ]
     },
     "metadata": {
      "needs_background": "light"
     },
     "output_type": "display_data"
    }
   ],
   "source": [
    "sns.distplot(train['SalePrice']);"
   ]
  },
  {
   "cell_type": "markdown",
   "metadata": {
    "id": "JzdKpmJBFwak"
   },
   "source": [
    "**'SalePrice'-**\n",
    "*   Deviate from the normal distribution\n",
    "*   Have positive skewness\n"
   ]
  },
  {
   "cell_type": "markdown",
   "metadata": {
    "id": "8zMTzZ81FywE"
   },
   "source": [
    "**'SalePrice' relationship with some important features**\n",
    "\n",
    "When buying a house, the features we generally and most importantly consider are-\n",
    "\n",
    "*   GrLivArea - Above grade (ground) living area square feet\n",
    "*   TotalBsmtSF - Total square feet of basement area\n",
    "*   OverallQual - Rates the overall material and finish of the house\n",
    "*   YearBuilt - Original construction date"
   ]
  },
  {
   "cell_type": "markdown",
   "metadata": {
    "id": "Mlqqc1hcF7A1"
   },
   "source": [
    " **Correlations**\n"
   ]
  },
  {
   "cell_type": "code",
   "execution_count": 33,
   "metadata": {
    "colab": {
     "base_uri": "https://localhost:8080/",
     "height": 283
    },
    "id": "u5i-nc0vladJ",
    "outputId": "7a531dad-f8a1-46c8-f9c1-1a0f57f168cd"
   },
   "outputs": [
    {
     "data": {
      "image/png": "[encoded data removed]",
      "text/plain": [
       "<Figure size 432x288 with 1 Axes>"
      ]
     },
     "metadata": {
      "needs_background": "light"
     },
     "output_type": "display_data"
    }
   ],
   "source": [
    "#scatter plot grlivarea/saleprice\n",
    "var = 'GrLivArea'\n",
    "data = pd.concat([train['SalePrice'], train[var]], axis=1)\n",
    "data.plot.scatter(x=var, y='SalePrice', ylim=(0,800000));"
   ]
  },
  {
   "cell_type": "code",
   "execution_count": 34,
   "metadata": {
    "colab": {
     "base_uri": "https://localhost:8080/",
     "height": 283
    },
    "id": "ZTugHXpOtZOX",
    "outputId": "9dd3bbec-056c-49cf-e7dd-3cf9231cf62d"
   },
   "outputs": [
    {
     "data": {
      "image/png": "[encoded data removed]",
      "text/plain": [
       "<Figure size 432x288 with 1 Axes>"
      ]
     },
     "metadata": {
      "needs_background": "light"
     },
     "output_type": "display_data"
    }
   ],
   "source": [
    "#scatter plot totalbsmtsf/saleprice\n",
    "var = 'TotalBsmtSF'\n",
    "data = pd.concat([train['SalePrice'], train[var]], axis=1)\n",
    "data.plot.scatter(x=var, y='SalePrice', ylim=(0,800000));\n"
   ]
  },
  {
   "cell_type": "code",
   "execution_count": 35,
   "metadata": {
    "colab": {
     "base_uri": "https://localhost:8080/",
     "height": 392
    },
    "id": "01QYJ9kktbMe",
    "outputId": "dd9306b8-9cac-496f-acb8-1cdf2876e8e8"
   },
   "outputs": [
    {
     "data": {
      "image/png": "[encoded data removed]",
      "text/plain": [
       "<Figure size 576x432 with 1 Axes>"
      ]
     },
     "metadata": {
      "needs_background": "light"
     },
     "output_type": "display_data"
    }
   ],
   "source": [
    "#box plot overallqual/saleprice\n",
    "var = 'OverallQual'\n",
    "data = pd.concat([train['SalePrice'], train[var]], axis=1)\n",
    "f, ax = plt.subplots(figsize=(8, 6))\n",
    "fig = sns.boxplot(x=var, y=\"SalePrice\", data=data)\n",
    "fig.axis(ymin=0, ymax=800000);"
   ]
  },
  {
   "cell_type": "code",
   "execution_count": 36,
   "metadata": {
    "colab": {
     "base_uri": "https://localhost:8080/",
     "height": 516
    },
    "id": "pxkCltsttjJM",
    "outputId": "e362dce2-58c1-4871-8740-f69bf38e8f8d"
   },
   "outputs": [
    {
     "data": {
      "image/png": "[encoded data removed]",
      "text/plain": [
       "<Figure size 1152x576 with 1 Axes>"
      ]
     },
     "metadata": {
      "needs_background": "light"
     },
     "output_type": "display_data"
    }
   ],
   "source": [
    "var = 'YearBuilt'\n",
    "data = pd.concat([train['SalePrice'], train[var]], axis=1)\n",
    "f, ax = plt.subplots(figsize=(16, 8))\n",
    "fig = sns.boxplot(x=var, y=\"SalePrice\", data=data)\n",
    "fig.axis(ymin=0, ymax=800000);\n",
    "plt.xticks(rotation=90);"
   ]
  },
  {
   "cell_type": "markdown",
   "metadata": {
    "id": "Yae1DgKdGTTB"
   },
   "source": [
    "**From the above plots**\n",
    "*   'GrLivArea' and 'TotalBsmtSF' seem to be linearly related with 'SalePrice'. In the case of 'TotalBsmtSF', we can see that the slope of the linear relationship is particularly high.\n",
    "*   'OverallQual' and 'YearBuilt' also seem to be related with 'SalePrice'. The relationship seems to be stronger in the case of 'OverallQual', where the box plot shows how sales prices increase with the overall quality.\n",
    "\n",
    "\n"
   ]
  },
  {
   "cell_type": "markdown",
   "metadata": {
    "id": "eSKqoRvyHZGx"
   },
   "source": [
    "**Heatmap correlation**"
   ]
  },
  {
   "cell_type": "code",
   "execution_count": 37,
   "metadata": {
    "colab": {
     "base_uri": "https://localhost:8080/",
     "height": 607
    },
    "id": "A1jVgvyaHZf7",
    "outputId": "121d1c23-5c24-4952-ab5b-47d5a3195112"
   },
   "outputs": [
    {
     "data": {
      "image/png": "[encoded data removed]",
      "text/plain": [
       "<Figure size 864x648 with 2 Axes>"
      ]
     },
     "metadata": {
      "needs_background": "light"
     },
     "output_type": "display_data"
    }
   ],
   "source": [
    "#correlation matrix\n",
    "corrmat = train.corr()\n",
    "f, ax = plt.subplots(figsize=(12, 9))\n",
    "sns.heatmap(corrmat, vmax=.8, square=True);"
   ]
  },
  {
   "cell_type": "markdown",
   "metadata": {
    "id": "nRb7WXb1gxqC"
   },
   "source": [
    "**From the heatmap, we find the follwing independent variables with high correlations indicating a situation of multicollinearity**\n",
    "*   'TotRmsAbvGrd' and 'GrLivArea'\n",
    "*   'TotalBsmtSF and 1stFlrSF' \n",
    "*   'GarageCars and GarageArea' \n",
    "\n"
   ]
  },
  {
   "cell_type": "markdown",
   "metadata": {
    "id": "l4z_fOVAxb9y"
   },
   "source": [
    "**Feature Selection**"
   ]
  },
  {
   "cell_type": "code",
   "execution_count": 38,
   "metadata": {
    "id": "XGuiLRMaHZwS"
   },
   "outputs": [],
   "source": [
    "#Dropping one of these highly correlated varibales\n",
    "train = train.drop(columns = ['TotRmsAbvGrd', '1stFlrSF','GarageArea'], axis = 1)\n",
    "test = test.drop(columns = ['TotRmsAbvGrd', '1stFlrSF','GarageArea'], axis =1)"
   ]
  },
  {
   "cell_type": "markdown",
   "metadata": {
    "id": "o8KEF8CaxuFd"
   },
   "source": [
    "**Feature Engineering**"
   ]
  },
  {
   "cell_type": "code",
   "execution_count": 39,
   "metadata": {
    "colab": {
     "base_uri": "https://localhost:8080/",
     "height": 1000
    },
    "id": "pOnU0zcctlD3",
    "outputId": "098c0f34-4c3b-499a-f93d-4f13a7b6e6f9"
   },
   "outputs": [
    {
     "data": {
      "image/png": "[encoded data removed]",
      "text/plain": [
       "<Figure size 864x2160 with 39 Axes>"
      ]
     },
     "metadata": {
      "needs_background": "light"
     },
     "output_type": "display_data"
    }
   ],
   "source": [
    "fig, axes = plt.subplots(round(len(categorical_cols_train.columns) / 3), 3, figsize=(12, 30))\n",
    "\n",
    "for i, ax in enumerate(fig.axes):\n",
    "    if i < len(categorical_cols_train.columns):\n",
    "        ax.set_xticklabels(ax.xaxis.get_majorticklabels(), rotation=45)\n",
    "        sns.countplot(x=categorical_cols_train.columns[i], alpha=0.7, data=categorical_cols_train, ax=ax)\n",
    "\n",
    "fig.tight_layout()"
   ]
  },
  {
   "cell_type": "markdown",
   "metadata": {
    "id": "u7KT-jl-tyak"
   },
   "source": [
    "We can see that in some variables some categories cannot be found in large numbers. Hence just one hot encoding may provide lot of variables which are not needed to the model. Hence we can try a different method rather than creating dummies for all categories."
   ]
  },
  {
   "cell_type": "code",
   "execution_count": 40,
   "metadata": {
    "colab": {
     "base_uri": "https://localhost:8080/"
    },
    "id": "W5Y2E5VOtnoe",
    "outputId": "edff8d70-12c0-4625-eae0-33de2e58d2b9"
   },
   "outputs": [
    {
     "name": "stdout",
     "output_type": "stream",
     "text": [
      "MSZoning : 5 labels\n",
      "Street : 2 labels\n",
      "LotShape : 4 labels\n",
      "LandContour : 4 labels\n",
      "Utilities : 2 labels\n",
      "LotConfig : 5 labels\n",
      "LandSlope : 3 labels\n",
      "Neighborhood : 25 labels\n",
      "Condition1 : 9 labels\n",
      "Condition2 : 8 labels\n",
      "BldgType : 5 labels\n",
      "HouseStyle : 8 labels\n",
      "RoofStyle : 6 labels\n",
      "RoofMatl : 8 labels\n",
      "Exterior1st : 15 labels\n",
      "Exterior2nd : 16 labels\n",
      "MasVnrType : 4 labels\n",
      "ExterQual : 4 labels\n",
      "ExterCond : 5 labels\n",
      "Foundation : 6 labels\n",
      "BsmtQual : 4 labels\n",
      "BsmtCond : 4 labels\n",
      "BsmtExposure : 4 labels\n",
      "BsmtFinType1 : 6 labels\n",
      "BsmtFinType2 : 6 labels\n",
      "Heating : 6 labels\n",
      "HeatingQC : 5 labels\n",
      "CentralAir : 2 labels\n",
      "Electrical : 5 labels\n",
      "KitchenQual : 4 labels\n",
      "Functional : 7 labels\n",
      "GarageType : 6 labels\n",
      "GarageFinish : 3 labels\n",
      "GarageQual : 5 labels\n",
      "GarageCond : 5 labels\n",
      "PavedDrive : 3 labels\n",
      "SaleType : 9 labels\n",
      "SaleCondition : 6 labels\n"
     ]
    }
   ],
   "source": [
    "for cols in categorical_cols_train.columns:\n",
    "    print(cols,':', len(categorical_cols_train[cols].unique()),'labels')"
   ]
  },
  {
   "cell_type": "markdown",
   "metadata": {
    "id": "cNNfewACufsU"
   },
   "source": [
    "For some variables there are more than 10 categories and some of them contain very few observations. So here we remove those variables and get the most frequent categories from those variables. This will reduce the dimensionality when creating dummy variables for categorical variables."
   ]
  },
  {
   "cell_type": "code",
   "execution_count": 41,
   "metadata": {
    "colab": {
     "base_uri": "https://localhost:8080/"
    },
    "id": "xHLF-ZLBty5D",
    "outputId": "2a1314f5-d9d7-49c2-bd29-4b5617ef38a7"
   },
   "outputs": [
    {
     "data": {
      "text/plain": [
       "Norm      1260\n",
       "Feedr       81\n",
       "Artery      48\n",
       "RRAn        26\n",
       "PosN        19\n",
       "RRAe        11\n",
       "PosA         8\n",
       "RRNn         5\n",
       "RRNe         2\n",
       "Name: Condition1, dtype: int64"
      ]
     },
     "execution_count": 41,
     "metadata": {},
     "output_type": "execute_result"
    }
   ],
   "source": [
    "categorical_cols_train.Condition1.value_counts().sort_values(ascending=False)"
   ]
  },
  {
   "cell_type": "markdown",
   "metadata": {
    "id": "aXigLibQujqQ"
   },
   "source": [
    "We can see that although there are 9 categories many of them do not contain observations. So we will get only the most frequent four categories."
   ]
  },
  {
   "cell_type": "code",
   "execution_count": 42,
   "metadata": {
    "colab": {
     "base_uri": "https://localhost:8080/"
    },
    "id": "l2LcIeyKuhuP",
    "outputId": "67ebbcdd-1efa-402e-923f-24294d8c9efe"
   },
   "outputs": [
    {
     "data": {
      "text/plain": [
       "['Norm', 'Feedr', 'Artery', 'RRAn']"
      ]
     },
     "execution_count": 42,
     "metadata": {},
     "output_type": "execute_result"
    }
   ],
   "source": [
    "freq_labels= [x for x in categorical_cols_train.Condition1.value_counts().sort_values(ascending=False).head(4).index]\n",
    "freq_labels"
   ]
  },
  {
   "cell_type": "code",
   "execution_count": 43,
   "metadata": {
    "id": "WTxr9GNJuk3b"
   },
   "outputs": [],
   "source": [
    "for label in freq_labels:\n",
    "    categorical_cols_train[label]= np.where(categorical_cols_train['Condition1']==label,1,0)"
   ]
  },
  {
   "cell_type": "code",
   "execution_count": 44,
   "metadata": {
    "colab": {
     "base_uri": "https://localhost:8080/",
     "height": 363
    },
    "id": "vN2sjspRupeg",
    "outputId": "4ae06047-c6e3-4ed7-a402-abf2125df81b"
   },
   "outputs": [
    {
     "data": {
      "text/html": [
       "<div>\n",
       "<style scoped>\n",
       "    .dataframe tbody tr th:only-of-type {\n",
       "        vertical-align: middle;\n",
       "    }\n",
       "\n",
       "    .dataframe tbody tr th {\n",
       "        vertical-align: top;\n",
       "    }\n",
       "\n",
       "    .dataframe thead th {\n",
       "        text-align: right;\n",
       "    }\n",
       "</style>\n",
       "<table border=\"1\" class=\"dataframe\">\n",
       "  <thead>\n",
       "    <tr style=\"text-align: right;\">\n",
       "      <th></th>\n",
       "      <th>Condition1</th>\n",
       "      <th>Norm</th>\n",
       "      <th>Feedr</th>\n",
       "      <th>Artery</th>\n",
       "      <th>RRAn</th>\n",
       "    </tr>\n",
       "  </thead>\n",
       "  <tbody>\n",
       "    <tr>\n",
       "      <th>0</th>\n",
       "      <td>Norm</td>\n",
       "      <td>1</td>\n",
       "      <td>0</td>\n",
       "      <td>0</td>\n",
       "      <td>0</td>\n",
       "    </tr>\n",
       "    <tr>\n",
       "      <th>1</th>\n",
       "      <td>Feedr</td>\n",
       "      <td>0</td>\n",
       "      <td>1</td>\n",
       "      <td>0</td>\n",
       "      <td>0</td>\n",
       "    </tr>\n",
       "    <tr>\n",
       "      <th>2</th>\n",
       "      <td>Norm</td>\n",
       "      <td>1</td>\n",
       "      <td>0</td>\n",
       "      <td>0</td>\n",
       "      <td>0</td>\n",
       "    </tr>\n",
       "    <tr>\n",
       "      <th>3</th>\n",
       "      <td>Norm</td>\n",
       "      <td>1</td>\n",
       "      <td>0</td>\n",
       "      <td>0</td>\n",
       "      <td>0</td>\n",
       "    </tr>\n",
       "    <tr>\n",
       "      <th>4</th>\n",
       "      <td>Norm</td>\n",
       "      <td>1</td>\n",
       "      <td>0</td>\n",
       "      <td>0</td>\n",
       "      <td>0</td>\n",
       "    </tr>\n",
       "    <tr>\n",
       "      <th>5</th>\n",
       "      <td>Norm</td>\n",
       "      <td>1</td>\n",
       "      <td>0</td>\n",
       "      <td>0</td>\n",
       "      <td>0</td>\n",
       "    </tr>\n",
       "    <tr>\n",
       "      <th>6</th>\n",
       "      <td>Norm</td>\n",
       "      <td>1</td>\n",
       "      <td>0</td>\n",
       "      <td>0</td>\n",
       "      <td>0</td>\n",
       "    </tr>\n",
       "    <tr>\n",
       "      <th>7</th>\n",
       "      <td>PosN</td>\n",
       "      <td>0</td>\n",
       "      <td>0</td>\n",
       "      <td>0</td>\n",
       "      <td>0</td>\n",
       "    </tr>\n",
       "    <tr>\n",
       "      <th>8</th>\n",
       "      <td>Artery</td>\n",
       "      <td>0</td>\n",
       "      <td>0</td>\n",
       "      <td>1</td>\n",
       "      <td>0</td>\n",
       "    </tr>\n",
       "    <tr>\n",
       "      <th>9</th>\n",
       "      <td>Artery</td>\n",
       "      <td>0</td>\n",
       "      <td>0</td>\n",
       "      <td>1</td>\n",
       "      <td>0</td>\n",
       "    </tr>\n",
       "  </tbody>\n",
       "</table>\n",
       "</div>"
      ],
      "text/plain": [
       "  Condition1  Norm  Feedr  Artery  RRAn\n",
       "0       Norm     1      0       0     0\n",
       "1      Feedr     0      1       0     0\n",
       "2       Norm     1      0       0     0\n",
       "3       Norm     1      0       0     0\n",
       "4       Norm     1      0       0     0\n",
       "5       Norm     1      0       0     0\n",
       "6       Norm     1      0       0     0\n",
       "7       PosN     0      0       0     0\n",
       "8     Artery     0      0       1     0\n",
       "9     Artery     0      0       1     0"
      ]
     },
     "execution_count": 44,
     "metadata": {},
     "output_type": "execute_result"
    }
   ],
   "source": [
    "categorical_cols_train[['Condition1']+freq_labels].head(10)"
   ]
  },
  {
   "cell_type": "code",
   "execution_count": 45,
   "metadata": {
    "id": "gLRX1R47uq1D"
   },
   "outputs": [],
   "source": [
    "def one_hot_freq_labels(data,variable,freq_labels):\n",
    "    for label in freq_labels:\n",
    "        data[variable+'_'+label]= np.where(data[variable]==label,1,0)"
   ]
  },
  {
   "cell_type": "code",
   "execution_count": 46,
   "metadata": {
    "id": "vI5Cge8Muvf-"
   },
   "outputs": [],
   "source": [
    "# the categories have been selected manually according to their frequencies\n",
    "\n",
    "freq_labels_Condition1=[x for x in categorical_cols_train.Condition1.value_counts().sort_values(ascending=False).head(4).index]\n",
    "freq_labels_Exterior2nd= [x for x in categorical_cols_train.Exterior2nd.value_counts().sort_values(ascending=False).head(5).index]\n",
    "freq_labels_Condition2=[x for x in categorical_cols_train.Condition2.value_counts().sort_values(ascending=False).head(2).index]\n",
    "freq_labels_HouseStyle =[x for x in categorical_cols_train.HouseStyle .value_counts().sort_values(ascending=False).head(4).index]\n",
    "freq_labels_RoofStyle =[x for x in categorical_cols_train.RoofStyle.value_counts().sort_values(ascending=False).head(2).index]\n",
    "freq_labels_RoofMatl  =[x for x in categorical_cols_train.RoofMatl.value_counts().sort_values(ascending=False).head(2).index]\n",
    "freq_labels_Exterior1st =[x for x in categorical_cols_train.Exterior1st.value_counts().sort_values(ascending=False).head(5).index]\n",
    "freq_labels_MasVnrType =[x for x in categorical_cols_train.MasVnrType.value_counts().sort_values(ascending=False).head(3).index]\n",
    "\n",
    "freq_labels_ExterQual =[x for x in categorical_cols_train.ExterQual.value_counts().sort_values(ascending=False).head(3).index]\n",
    "freq_labels_ExterCond =[x for x in categorical_cols_train.ExterCond.value_counts().sort_values(ascending=False).head(3).index]\n",
    "freq_labels_Foundation =[x for x in categorical_cols_train.Foundation.value_counts().sort_values(ascending=False).head(3).index]\n",
    "freq_labels_BsmtQual =[x for x in categorical_cols_train.BsmtQual.value_counts().sort_values(ascending=False).head(4).index]\n",
    "freq_labels_BsmtCond =[x for x in categorical_cols_train.BsmtCond.value_counts().sort_values(ascending=False).head(3).index]\n",
    "freq_labels_BsmtExposure =[x for x in categorical_cols_train.BsmtExposure.value_counts().sort_values(ascending=False).head(3).index]\n",
    "freq_labels_BsmtFinType1=[x for x in categorical_cols_train.BsmtFinType1.value_counts().sort_values(ascending=False).head(6).index]\n",
    "\n",
    "freq_labels_BsmtFinType2 =[x for x in categorical_cols_train.BsmtFinType2.value_counts().sort_values(ascending=False).head(2).index]\n",
    "freq_labels_Heating =[x for x in categorical_cols_train.Heating.value_counts().sort_values(ascending=False).head(1).index]\n",
    "freq_labels_HeatingQC =[x for x in categorical_cols_train.HeatingQC.value_counts().sort_values(ascending=False).head(3).index]\n",
    "freq_labels_CentralAir =[x for x in categorical_cols_train.BsmtExposure.value_counts().sort_values(ascending=False).head(1).index]\n",
    "freq_labels_Electrical=[x for x in categorical_cols_train.BsmtFinType1.value_counts().sort_values(ascending=False).head(2).index]\n",
    "freq_labels_KitchenQual=[x for x in categorical_cols_train.KitchenQual.value_counts().sort_values(ascending=False).head(3).index]\n",
    "freq_labels_Functional =[x for x in categorical_cols_train.Functional.value_counts().sort_values(ascending=False).head(2).index]\n",
    "\n",
    "freq_labels_GarageType =[x for x in categorical_cols_train.GarageType.value_counts().sort_values(ascending=False).head(3).index]\n",
    "freq_labels_GarageFinish =[x for x in categorical_cols_train.GarageFinish.value_counts().sort_values(ascending=False).head(3).index]\n",
    "freq_labels_GarageQual=[x for x in categorical_cols_train.GarageQual.value_counts().sort_values(ascending=False).head(2).index]\n",
    "freq_labels_GarageCond=[x for x in categorical_cols_train.GarageCond.value_counts().sort_values(ascending=False).head(2).index]\n",
    "freq_labels_PavedDrive =[x for x in categorical_cols_train.PavedDrive.value_counts().sort_values(ascending=False).head(2).index]\n",
    "freq_labels_SaleType =[x for x in categorical_cols_train.SaleType.value_counts().sort_values(ascending=False).head(3).index]\n",
    "freq_labels_SaleCondition =[x for x in categorical_cols_train.SaleCondition.value_counts().sort_values(ascending=False).head(3).index]\n",
    "\n",
    "freq_labels_MSZoning =[x for x in categorical_cols_train.MSZoning.value_counts().sort_values(ascending=False).head(3).index]\n",
    "freq_labels_Street =[x for x in categorical_cols_train.Street.value_counts().sort_values(ascending=False).head(1).index]\n",
    "freq_labels_LotShape=[x for x in categorical_cols_train.LotShape.value_counts().sort_values(ascending=False).head(3).index]\n",
    "freq_labels_LandContour=[x for x in categorical_cols_train.LandContour.value_counts().sort_values(ascending=False).head(2).index]\n",
    "freq_labels_Utilities =[x for x in categorical_cols_train.Utilities.value_counts().sort_values(ascending=False).head(1).index]\n",
    "freq_labels_LotConfig =[x for x in categorical_cols_train.LotConfig.value_counts().sort_values(ascending=False).head(3).index]\n",
    "freq_labels_LandSlope =[x for x in categorical_cols_train.LandSlope.value_counts().sort_values(ascending=False).head(2).index]\n",
    "freq_labels_BldgType=[x for x in categorical_cols_train.BldgType.value_counts().sort_values(ascending=False).head(3).index]\n",
    "\n",
    "\n"
   ]
  },
  {
   "cell_type": "markdown",
   "metadata": {
    "id": "3e-yk4TGwGP4"
   },
   "source": [
    "Now we will combine test and train sets before creating dummy varaibles since there may be differences in columns if that was done seperately."
   ]
  },
  {
   "cell_type": "code",
   "execution_count": 47,
   "metadata": {
    "id": "_IFCMqNrvliG"
   },
   "outputs": [],
   "source": [
    "df=pd.concat([train,test],axis=0)"
   ]
  },
  {
   "cell_type": "code",
   "execution_count": 48,
   "metadata": {
    "id": "p2J6Eo1lwIWa"
   },
   "outputs": [],
   "source": [
    "one_hot_freq_labels(df,'Exterior2nd',freq_labels_Exterior2nd)\n",
    "one_hot_freq_labels(df,'Condition1',freq_labels_Condition1)\n",
    "one_hot_freq_labels(df,'Condition2',freq_labels_Condition2)\n",
    "one_hot_freq_labels(df,'HouseStyle',freq_labels_HouseStyle)\n",
    "one_hot_freq_labels(df,'RoofStyle',freq_labels_RoofStyle)\n",
    "one_hot_freq_labels(df,'RoofMatl',freq_labels_RoofMatl )\n",
    "one_hot_freq_labels(df,'Exterior1st',freq_labels_Exterior1st)\n",
    "one_hot_freq_labels(df,'MasVnrType',freq_labels_MasVnrType)\n",
    "one_hot_freq_labels(df,'ExterQual',freq_labels_ExterQual)\n",
    "one_hot_freq_labels(df,'ExterCond',freq_labels_ExterCond )\n",
    "one_hot_freq_labels(df,'Foundation',freq_labels_Foundation)\n",
    "one_hot_freq_labels(df,'BsmtQual',freq_labels_BsmtQual)\n",
    "one_hot_freq_labels(df,'BsmtCond',freq_labels_BsmtCond)\n",
    "one_hot_freq_labels(df,'BsmtExposure',freq_labels_BsmtExposure)\n",
    "one_hot_freq_labels(df,'BsmtFinType1',freq_labels_BsmtFinType1)\n",
    "one_hot_freq_labels(df,'BsmtFinType2',freq_labels_BsmtFinType2 )\n",
    "one_hot_freq_labels(df,'Heating',freq_labels_Heating)\n",
    "one_hot_freq_labels(df,'HeatingQC',freq_labels_HeatingQC)\n",
    "one_hot_freq_labels(df,'CentralAir',freq_labels_CentralAir)\n",
    "one_hot_freq_labels(df,'Electrical',freq_labels_Electrical)\n",
    "one_hot_freq_labels(df,'KitchenQual',freq_labels_KitchenQual)\n",
    "one_hot_freq_labels(df,'Functional',freq_labels_Functional)\n",
    "one_hot_freq_labels(df,'GarageType',freq_labels_GarageType)\n",
    "one_hot_freq_labels(df,'GarageFinish',freq_labels_GarageFinish)\n",
    "one_hot_freq_labels(df,'GarageQual',freq_labels_GarageQual)\n",
    "one_hot_freq_labels(df,'GarageCond',freq_labels_GarageCond)\n",
    "one_hot_freq_labels(df,'PavedDrive',freq_labels_PavedDrive)\n",
    "one_hot_freq_labels(df,'SaleType',freq_labels_SaleType)\n",
    "one_hot_freq_labels(df,'SaleCondition',freq_labels_SaleCondition)\n"
   ]
  },
  {
   "cell_type": "code",
   "execution_count": 49,
   "metadata": {
    "colab": {
     "base_uri": "https://localhost:8080/",
     "height": 846
    },
    "id": "JrVLldzewWZI",
    "outputId": "a097ff9c-81bb-43a5-aac9-ad9491e55090"
   },
   "outputs": [
    {
     "data": {
      "image/png": "[encoded data removed]",
      "text/plain": [
       "<Figure size 1800x1080 with 1 Axes>"
      ]
     },
     "metadata": {
      "needs_background": "light"
     },
     "output_type": "display_data"
    }
   ],
   "source": [
    "data = pd.concat([train['SalePrice'], train['Neighborhood']], axis=1)\n",
    "f, ax = plt.subplots(figsize=(25, 15))\n",
    "fig = sns.boxplot(x='Neighborhood', y=\"SalePrice\", data=data)\n"
   ]
  },
  {
   "cell_type": "markdown",
   "metadata": {
    "id": "UwSxCcsfwe9f"
   },
   "source": [
    "Since there is a price variation among neighborhoods. We will create dummies for most frequent 10 neighborhoods. "
   ]
  },
  {
   "cell_type": "code",
   "execution_count": 50,
   "metadata": {
    "id": "1lQvbYj0wW3R"
   },
   "outputs": [],
   "source": [
    "freq_labels_Neighborhood =[x for x in categorical_cols_train.Neighborhood.value_counts().sort_values(ascending=False).head(8).index]\n",
    "freq_labels_Neighborhood\n",
    "one_hot_freq_labels(df,'Neighborhood',freq_labels_Neighborhood)"
   ]
  },
  {
   "cell_type": "markdown",
   "metadata": {
    "id": "sLCxxlDEwkVI"
   },
   "source": [
    "Now we can remove the original categorical variables from the dataframe."
   ]
  },
  {
   "cell_type": "code",
   "execution_count": 51,
   "metadata": {
    "id": "gMqfnC_QwhRP"
   },
   "outputs": [],
   "source": [
    "df=df.drop(['MSZoning', 'Street', 'LotShape', 'LandContour', 'Utilities',\n",
    "       'LotConfig', 'LandSlope', 'Neighborhood', 'Condition1', 'Condition2',\n",
    "       'BldgType', 'HouseStyle', 'RoofStyle', 'RoofMatl', 'Exterior1st',\n",
    "       'Exterior2nd', 'MasVnrType', 'ExterQual', 'ExterCond', 'Foundation',\n",
    "       'BsmtQual', 'BsmtCond', 'BsmtExposure', 'BsmtFinType1', 'BsmtFinType2',\n",
    "       'Heating', 'HeatingQC', 'CentralAir', 'Electrical', 'KitchenQual',\n",
    "       'Functional', 'GarageType', 'GarageFinish', 'GarageQual', 'GarageCond',\n",
    "       'PavedDrive', 'SaleType', 'SaleCondition'],1)"
   ]
  },
  {
   "cell_type": "code",
   "execution_count": 52,
   "metadata": {
    "colab": {
     "base_uri": "https://localhost:8080/"
    },
    "id": "oOVo-sR9wnSB",
    "outputId": "1f46e20f-3de0-4a16-c385-033b998b9a66"
   },
   "outputs": [
    {
     "data": {
      "text/plain": [
       "(2919, 125)"
      ]
     },
     "execution_count": 52,
     "metadata": {},
     "output_type": "execute_result"
    }
   ],
   "source": [
    "df.shape"
   ]
  },
  {
   "cell_type": "code",
   "execution_count": 53,
   "metadata": {
    "colab": {
     "base_uri": "https://localhost:8080/",
     "height": 299
    },
    "id": "_est85sHwpPO",
    "outputId": "5684555c-c4a6-4a63-ea9a-d99e37abd025"
   },
   "outputs": [
    {
     "data": {
      "text/html": [
       "<div>\n",
       "<style scoped>\n",
       "    .dataframe tbody tr th:only-of-type {\n",
       "        vertical-align: middle;\n",
       "    }\n",
       "\n",
       "    .dataframe tbody tr th {\n",
       "        vertical-align: top;\n",
       "    }\n",
       "\n",
       "    .dataframe thead th {\n",
       "        text-align: right;\n",
       "    }\n",
       "</style>\n",
       "<table border=\"1\" class=\"dataframe\">\n",
       "  <thead>\n",
       "    <tr style=\"text-align: right;\">\n",
       "      <th></th>\n",
       "      <th>MSSubClass</th>\n",
       "      <th>LotFrontage</th>\n",
       "      <th>LotArea</th>\n",
       "      <th>OverallQual</th>\n",
       "      <th>OverallCond</th>\n",
       "      <th>YearBuilt</th>\n",
       "      <th>YearRemodAdd</th>\n",
       "      <th>MasVnrArea</th>\n",
       "      <th>BsmtFinSF1</th>\n",
       "      <th>BsmtFinSF2</th>\n",
       "      <th>...</th>\n",
       "      <th>SaleCondition_Partial</th>\n",
       "      <th>SaleCondition_Abnorml</th>\n",
       "      <th>Neighborhood_NAmes</th>\n",
       "      <th>Neighborhood_CollgCr</th>\n",
       "      <th>Neighborhood_OldTown</th>\n",
       "      <th>Neighborhood_Edwards</th>\n",
       "      <th>Neighborhood_Somerst</th>\n",
       "      <th>Neighborhood_Gilbert</th>\n",
       "      <th>Neighborhood_NridgHt</th>\n",
       "      <th>Neighborhood_Sawyer</th>\n",
       "    </tr>\n",
       "  </thead>\n",
       "  <tbody>\n",
       "    <tr>\n",
       "      <th>0</th>\n",
       "      <td>60</td>\n",
       "      <td>65.0</td>\n",
       "      <td>8450</td>\n",
       "      <td>7</td>\n",
       "      <td>5</td>\n",
       "      <td>2003</td>\n",
       "      <td>2003</td>\n",
       "      <td>196.0</td>\n",
       "      <td>706.0</td>\n",
       "      <td>0.0</td>\n",
       "      <td>...</td>\n",
       "      <td>0</td>\n",
       "      <td>0</td>\n",
       "      <td>0</td>\n",
       "      <td>1</td>\n",
       "      <td>0</td>\n",
       "      <td>0</td>\n",
       "      <td>0</td>\n",
       "      <td>0</td>\n",
       "      <td>0</td>\n",
       "      <td>0</td>\n",
       "    </tr>\n",
       "    <tr>\n",
       "      <th>1</th>\n",
       "      <td>20</td>\n",
       "      <td>80.0</td>\n",
       "      <td>9600</td>\n",
       "      <td>6</td>\n",
       "      <td>8</td>\n",
       "      <td>1976</td>\n",
       "      <td>1976</td>\n",
       "      <td>0.0</td>\n",
       "      <td>978.0</td>\n",
       "      <td>0.0</td>\n",
       "      <td>...</td>\n",
       "      <td>0</td>\n",
       "      <td>0</td>\n",
       "      <td>0</td>\n",
       "      <td>0</td>\n",
       "      <td>0</td>\n",
       "      <td>0</td>\n",
       "      <td>0</td>\n",
       "      <td>0</td>\n",
       "      <td>0</td>\n",
       "      <td>0</td>\n",
       "    </tr>\n",
       "    <tr>\n",
       "      <th>2</th>\n",
       "      <td>60</td>\n",
       "      <td>68.0</td>\n",
       "      <td>11250</td>\n",
       "      <td>7</td>\n",
       "      <td>5</td>\n",
       "      <td>2001</td>\n",
       "      <td>2002</td>\n",
       "      <td>162.0</td>\n",
       "      <td>486.0</td>\n",
       "      <td>0.0</td>\n",
       "      <td>...</td>\n",
       "      <td>0</td>\n",
       "      <td>0</td>\n",
       "      <td>0</td>\n",
       "      <td>1</td>\n",
       "      <td>0</td>\n",
       "      <td>0</td>\n",
       "      <td>0</td>\n",
       "      <td>0</td>\n",
       "      <td>0</td>\n",
       "      <td>0</td>\n",
       "    </tr>\n",
       "    <tr>\n",
       "      <th>3</th>\n",
       "      <td>70</td>\n",
       "      <td>60.0</td>\n",
       "      <td>9550</td>\n",
       "      <td>7</td>\n",
       "      <td>5</td>\n",
       "      <td>1915</td>\n",
       "      <td>1970</td>\n",
       "      <td>0.0</td>\n",
       "      <td>216.0</td>\n",
       "      <td>0.0</td>\n",
       "      <td>...</td>\n",
       "      <td>0</td>\n",
       "      <td>1</td>\n",
       "      <td>0</td>\n",
       "      <td>0</td>\n",
       "      <td>0</td>\n",
       "      <td>0</td>\n",
       "      <td>0</td>\n",
       "      <td>0</td>\n",
       "      <td>0</td>\n",
       "      <td>0</td>\n",
       "    </tr>\n",
       "    <tr>\n",
       "      <th>4</th>\n",
       "      <td>60</td>\n",
       "      <td>84.0</td>\n",
       "      <td>14260</td>\n",
       "      <td>8</td>\n",
       "      <td>5</td>\n",
       "      <td>2000</td>\n",
       "      <td>2000</td>\n",
       "      <td>350.0</td>\n",
       "      <td>655.0</td>\n",
       "      <td>0.0</td>\n",
       "      <td>...</td>\n",
       "      <td>0</td>\n",
       "      <td>0</td>\n",
       "      <td>0</td>\n",
       "      <td>0</td>\n",
       "      <td>0</td>\n",
       "      <td>0</td>\n",
       "      <td>0</td>\n",
       "      <td>0</td>\n",
       "      <td>0</td>\n",
       "      <td>0</td>\n",
       "    </tr>\n",
       "  </tbody>\n",
       "</table>\n",
       "<p>5 rows × 125 columns</p>\n",
       "</div>"
      ],
      "text/plain": [
       "   MSSubClass  LotFrontage  LotArea  OverallQual  OverallCond  YearBuilt  \\\n",
       "0          60         65.0     8450            7            5       2003   \n",
       "1          20         80.0     9600            6            8       1976   \n",
       "2          60         68.0    11250            7            5       2001   \n",
       "3          70         60.0     9550            7            5       1915   \n",
       "4          60         84.0    14260            8            5       2000   \n",
       "\n",
       "   YearRemodAdd  MasVnrArea  BsmtFinSF1  BsmtFinSF2  ...  \\\n",
       "0          2003       196.0       706.0         0.0  ...   \n",
       "1          1976         0.0       978.0         0.0  ...   \n",
       "2          2002       162.0       486.0         0.0  ...   \n",
       "3          1970         0.0       216.0         0.0  ...   \n",
       "4          2000       350.0       655.0         0.0  ...   \n",
       "\n",
       "   SaleCondition_Partial  SaleCondition_Abnorml  Neighborhood_NAmes  \\\n",
       "0                      0                      0                   0   \n",
       "1                      0                      0                   0   \n",
       "2                      0                      0                   0   \n",
       "3                      0                      1                   0   \n",
       "4                      0                      0                   0   \n",
       "\n",
       "   Neighborhood_CollgCr  Neighborhood_OldTown  Neighborhood_Edwards  \\\n",
       "0                     1                     0                     0   \n",
       "1                     0                     0                     0   \n",
       "2                     1                     0                     0   \n",
       "3                     0                     0                     0   \n",
       "4                     0                     0                     0   \n",
       "\n",
       "   Neighborhood_Somerst  Neighborhood_Gilbert  Neighborhood_NridgHt  \\\n",
       "0                     0                     0                     0   \n",
       "1                     0                     0                     0   \n",
       "2                     0                     0                     0   \n",
       "3                     0                     0                     0   \n",
       "4                     0                     0                     0   \n",
       "\n",
       "   Neighborhood_Sawyer  \n",
       "0                    0  \n",
       "1                    0  \n",
       "2                    0  \n",
       "3                    0  \n",
       "4                    0  \n",
       "\n",
       "[5 rows x 125 columns]"
      ]
     },
     "execution_count": 53,
     "metadata": {},
     "output_type": "execute_result"
    }
   ],
   "source": [
    "df.head()"
   ]
  },
  {
   "cell_type": "code",
   "execution_count": 54,
   "metadata": {
    "colab": {
     "base_uri": "https://localhost:8080/"
    },
    "id": "3Rg0LfwWwruw",
    "outputId": "92991182-0414-4ccd-eb90-f8e8d02a5528"
   },
   "outputs": [
    {
     "data": {
      "text/plain": [
       "1459"
      ]
     },
     "execution_count": 54,
     "metadata": {},
     "output_type": "execute_result"
    }
   ],
   "source": [
    "df['SalePrice'].isnull().sum()"
   ]
  },
  {
   "cell_type": "code",
   "execution_count": 55,
   "metadata": {
    "id": "C7oCINFywtep"
   },
   "outputs": [],
   "source": [
    "df_train=df.iloc[:1460,:]\n",
    "df_test=df.iloc[1460:,:]"
   ]
  },
  {
   "cell_type": "code",
   "execution_count": 56,
   "metadata": {
    "colab": {
     "base_uri": "https://localhost:8080/",
     "height": 390
    },
    "id": "RB3sRRy0wvTE",
    "outputId": "b5b16ed9-f393-4574-cbff-a373f7827119"
   },
   "outputs": [
    {
     "data": {
      "text/plain": [
       "<AxesSubplot:>"
      ]
     },
     "execution_count": 56,
     "metadata": {},
     "output_type": "execute_result"
    },
    {
     "data": {
      "image/png": "[encoded data removed]",
      "text/plain": [
       "<Figure size 432x288 with 1 Axes>"
      ]
     },
     "metadata": {
      "needs_background": "light"
     },
     "output_type": "display_data"
    }
   ],
   "source": [
    "sns.heatmap(df_train.isnull(),yticklabels=False,cbar=False)"
   ]
  },
  {
   "cell_type": "code",
   "execution_count": 57,
   "metadata": {
    "colab": {
     "base_uri": "https://localhost:8080/",
     "height": 390
    },
    "id": "ikPg0c0awwyN",
    "outputId": "78d55391-cc25-4ab6-857d-3c2b857670fd"
   },
   "outputs": [
    {
     "data": {
      "text/plain": [
       "<AxesSubplot:>"
      ]
     },
     "execution_count": 57,
     "metadata": {},
     "output_type": "execute_result"
    },
    {
     "data": {
      "image/png": "[encoded data removed]",
      "text/plain": [
       "<Figure size 432x288 with 1 Axes>"
      ]
     },
     "metadata": {
      "needs_background": "light"
     },
     "output_type": "display_data"
    }
   ],
   "source": [
    "sns.heatmap(df_test.isnull(),yticklabels=False,cbar=False)"
   ]
  },
  {
   "cell_type": "markdown",
   "metadata": {
    "id": "cHEZ48DZxAWz"
   },
   "source": [
    "### **Model Fitting**"
   ]
  },
  {
   "cell_type": "code",
   "execution_count": 58,
   "metadata": {
    "id": "Y4RYZJ3I81PW"
   },
   "outputs": [],
   "source": [
    "X = df_train.drop(['SalePrice'], axis =1)\n",
    "y = np.log(df_train.SalePrice) #since the 'SalePrice' is positively skewed\n"
   ]
  },
  {
   "cell_type": "code",
   "execution_count": 59,
   "metadata": {
    "id": "sGk5S7z99--H"
   },
   "outputs": [],
   "source": [
    "from sklearn.model_selection import train_test_split\n",
    "X_train, X_test, y_train, y_test =  train_test_split(X, y, random_state=1234, test_size= .2)"
   ]
  },
  {
   "cell_type": "code",
   "execution_count": 60,
   "metadata": {
    "colab": {
     "base_uri": "https://localhost:8080/",
     "height": 487
    },
    "id": "nhsEI9MknA_U",
    "outputId": "1752aade-aaaa-4f55-fe8e-8099dc7e6346"
   },
   "outputs": [
    {
     "data": {
      "text/html": [
       "<div>\n",
       "<style scoped>\n",
       "    .dataframe tbody tr th:only-of-type {\n",
       "        vertical-align: middle;\n",
       "    }\n",
       "\n",
       "    .dataframe tbody tr th {\n",
       "        vertical-align: top;\n",
       "    }\n",
       "\n",
       "    .dataframe thead th {\n",
       "        text-align: right;\n",
       "    }\n",
       "</style>\n",
       "<table border=\"1\" class=\"dataframe\">\n",
       "  <thead>\n",
       "    <tr style=\"text-align: right;\">\n",
       "      <th></th>\n",
       "      <th>MSSubClass</th>\n",
       "      <th>LotFrontage</th>\n",
       "      <th>LotArea</th>\n",
       "      <th>OverallQual</th>\n",
       "      <th>OverallCond</th>\n",
       "      <th>YearBuilt</th>\n",
       "      <th>YearRemodAdd</th>\n",
       "      <th>MasVnrArea</th>\n",
       "      <th>BsmtFinSF1</th>\n",
       "      <th>BsmtFinSF2</th>\n",
       "      <th>...</th>\n",
       "      <th>SaleCondition_Partial</th>\n",
       "      <th>SaleCondition_Abnorml</th>\n",
       "      <th>Neighborhood_NAmes</th>\n",
       "      <th>Neighborhood_CollgCr</th>\n",
       "      <th>Neighborhood_OldTown</th>\n",
       "      <th>Neighborhood_Edwards</th>\n",
       "      <th>Neighborhood_Somerst</th>\n",
       "      <th>Neighborhood_Gilbert</th>\n",
       "      <th>Neighborhood_NridgHt</th>\n",
       "      <th>Neighborhood_Sawyer</th>\n",
       "    </tr>\n",
       "  </thead>\n",
       "  <tbody>\n",
       "    <tr>\n",
       "      <th>503</th>\n",
       "      <td>20</td>\n",
       "      <td>100.0</td>\n",
       "      <td>15602</td>\n",
       "      <td>7</td>\n",
       "      <td>8</td>\n",
       "      <td>1959</td>\n",
       "      <td>1997</td>\n",
       "      <td>0.0</td>\n",
       "      <td>1247.0</td>\n",
       "      <td>0.0</td>\n",
       "      <td>...</td>\n",
       "      <td>0</td>\n",
       "      <td>0</td>\n",
       "      <td>0</td>\n",
       "      <td>0</td>\n",
       "      <td>0</td>\n",
       "      <td>0</td>\n",
       "      <td>0</td>\n",
       "      <td>0</td>\n",
       "      <td>0</td>\n",
       "      <td>0</td>\n",
       "    </tr>\n",
       "    <tr>\n",
       "      <th>87</th>\n",
       "      <td>160</td>\n",
       "      <td>40.0</td>\n",
       "      <td>3951</td>\n",
       "      <td>6</td>\n",
       "      <td>5</td>\n",
       "      <td>2009</td>\n",
       "      <td>2009</td>\n",
       "      <td>76.0</td>\n",
       "      <td>0.0</td>\n",
       "      <td>0.0</td>\n",
       "      <td>...</td>\n",
       "      <td>1</td>\n",
       "      <td>0</td>\n",
       "      <td>0</td>\n",
       "      <td>0</td>\n",
       "      <td>0</td>\n",
       "      <td>0</td>\n",
       "      <td>1</td>\n",
       "      <td>0</td>\n",
       "      <td>0</td>\n",
       "      <td>0</td>\n",
       "    </tr>\n",
       "    <tr>\n",
       "      <th>500</th>\n",
       "      <td>160</td>\n",
       "      <td>21.0</td>\n",
       "      <td>1890</td>\n",
       "      <td>6</td>\n",
       "      <td>5</td>\n",
       "      <td>1973</td>\n",
       "      <td>1973</td>\n",
       "      <td>285.0</td>\n",
       "      <td>356.0</td>\n",
       "      <td>0.0</td>\n",
       "      <td>...</td>\n",
       "      <td>0</td>\n",
       "      <td>0</td>\n",
       "      <td>0</td>\n",
       "      <td>0</td>\n",
       "      <td>0</td>\n",
       "      <td>0</td>\n",
       "      <td>0</td>\n",
       "      <td>0</td>\n",
       "      <td>0</td>\n",
       "      <td>0</td>\n",
       "    </tr>\n",
       "    <tr>\n",
       "      <th>1332</th>\n",
       "      <td>20</td>\n",
       "      <td>67.0</td>\n",
       "      <td>8877</td>\n",
       "      <td>4</td>\n",
       "      <td>6</td>\n",
       "      <td>1938</td>\n",
       "      <td>1958</td>\n",
       "      <td>0.0</td>\n",
       "      <td>690.0</td>\n",
       "      <td>0.0</td>\n",
       "      <td>...</td>\n",
       "      <td>0</td>\n",
       "      <td>0</td>\n",
       "      <td>0</td>\n",
       "      <td>0</td>\n",
       "      <td>0</td>\n",
       "      <td>1</td>\n",
       "      <td>0</td>\n",
       "      <td>0</td>\n",
       "      <td>0</td>\n",
       "      <td>0</td>\n",
       "    </tr>\n",
       "    <tr>\n",
       "      <th>658</th>\n",
       "      <td>50</td>\n",
       "      <td>78.0</td>\n",
       "      <td>17503</td>\n",
       "      <td>6</td>\n",
       "      <td>5</td>\n",
       "      <td>1948</td>\n",
       "      <td>1950</td>\n",
       "      <td>0.0</td>\n",
       "      <td>0.0</td>\n",
       "      <td>0.0</td>\n",
       "      <td>...</td>\n",
       "      <td>0</td>\n",
       "      <td>1</td>\n",
       "      <td>1</td>\n",
       "      <td>0</td>\n",
       "      <td>0</td>\n",
       "      <td>0</td>\n",
       "      <td>0</td>\n",
       "      <td>0</td>\n",
       "      <td>0</td>\n",
       "      <td>0</td>\n",
       "    </tr>\n",
       "    <tr>\n",
       "      <th>...</th>\n",
       "      <td>...</td>\n",
       "      <td>...</td>\n",
       "      <td>...</td>\n",
       "      <td>...</td>\n",
       "      <td>...</td>\n",
       "      <td>...</td>\n",
       "      <td>...</td>\n",
       "      <td>...</td>\n",
       "      <td>...</td>\n",
       "      <td>...</td>\n",
       "      <td>...</td>\n",
       "      <td>...</td>\n",
       "      <td>...</td>\n",
       "      <td>...</td>\n",
       "      <td>...</td>\n",
       "      <td>...</td>\n",
       "      <td>...</td>\n",
       "      <td>...</td>\n",
       "      <td>...</td>\n",
       "      <td>...</td>\n",
       "      <td>...</td>\n",
       "    </tr>\n",
       "    <tr>\n",
       "      <th>1228</th>\n",
       "      <td>120</td>\n",
       "      <td>65.0</td>\n",
       "      <td>8769</td>\n",
       "      <td>9</td>\n",
       "      <td>5</td>\n",
       "      <td>2008</td>\n",
       "      <td>2008</td>\n",
       "      <td>766.0</td>\n",
       "      <td>1540.0</td>\n",
       "      <td>0.0</td>\n",
       "      <td>...</td>\n",
       "      <td>1</td>\n",
       "      <td>0</td>\n",
       "      <td>0</td>\n",
       "      <td>0</td>\n",
       "      <td>0</td>\n",
       "      <td>0</td>\n",
       "      <td>0</td>\n",
       "      <td>0</td>\n",
       "      <td>1</td>\n",
       "      <td>0</td>\n",
       "    </tr>\n",
       "    <tr>\n",
       "      <th>1077</th>\n",
       "      <td>20</td>\n",
       "      <td>70.0</td>\n",
       "      <td>15870</td>\n",
       "      <td>5</td>\n",
       "      <td>5</td>\n",
       "      <td>1969</td>\n",
       "      <td>1969</td>\n",
       "      <td>0.0</td>\n",
       "      <td>75.0</td>\n",
       "      <td>791.0</td>\n",
       "      <td>...</td>\n",
       "      <td>0</td>\n",
       "      <td>1</td>\n",
       "      <td>1</td>\n",
       "      <td>0</td>\n",
       "      <td>0</td>\n",
       "      <td>0</td>\n",
       "      <td>0</td>\n",
       "      <td>0</td>\n",
       "      <td>0</td>\n",
       "      <td>0</td>\n",
       "    </tr>\n",
       "    <tr>\n",
       "      <th>1318</th>\n",
       "      <td>20</td>\n",
       "      <td>70.0</td>\n",
       "      <td>14781</td>\n",
       "      <td>8</td>\n",
       "      <td>5</td>\n",
       "      <td>2001</td>\n",
       "      <td>2002</td>\n",
       "      <td>178.0</td>\n",
       "      <td>0.0</td>\n",
       "      <td>0.0</td>\n",
       "      <td>...</td>\n",
       "      <td>0</td>\n",
       "      <td>0</td>\n",
       "      <td>0</td>\n",
       "      <td>1</td>\n",
       "      <td>0</td>\n",
       "      <td>0</td>\n",
       "      <td>0</td>\n",
       "      <td>0</td>\n",
       "      <td>0</td>\n",
       "      <td>0</td>\n",
       "    </tr>\n",
       "    <tr>\n",
       "      <th>723</th>\n",
       "      <td>50</td>\n",
       "      <td>60.0</td>\n",
       "      <td>8172</td>\n",
       "      <td>4</td>\n",
       "      <td>6</td>\n",
       "      <td>1954</td>\n",
       "      <td>1972</td>\n",
       "      <td>0.0</td>\n",
       "      <td>0.0</td>\n",
       "      <td>0.0</td>\n",
       "      <td>...</td>\n",
       "      <td>0</td>\n",
       "      <td>0</td>\n",
       "      <td>0</td>\n",
       "      <td>0</td>\n",
       "      <td>0</td>\n",
       "      <td>1</td>\n",
       "      <td>0</td>\n",
       "      <td>0</td>\n",
       "      <td>0</td>\n",
       "      <td>0</td>\n",
       "    </tr>\n",
       "    <tr>\n",
       "      <th>815</th>\n",
       "      <td>20</td>\n",
       "      <td>48.0</td>\n",
       "      <td>12137</td>\n",
       "      <td>7</td>\n",
       "      <td>5</td>\n",
       "      <td>1998</td>\n",
       "      <td>1998</td>\n",
       "      <td>442.0</td>\n",
       "      <td>0.0</td>\n",
       "      <td>0.0</td>\n",
       "      <td>...</td>\n",
       "      <td>0</td>\n",
       "      <td>0</td>\n",
       "      <td>0</td>\n",
       "      <td>1</td>\n",
       "      <td>0</td>\n",
       "      <td>0</td>\n",
       "      <td>0</td>\n",
       "      <td>0</td>\n",
       "      <td>0</td>\n",
       "      <td>0</td>\n",
       "    </tr>\n",
       "  </tbody>\n",
       "</table>\n",
       "<p>1168 rows × 124 columns</p>\n",
       "</div>"
      ],
      "text/plain": [
       "      MSSubClass  LotFrontage  LotArea  OverallQual  OverallCond  YearBuilt  \\\n",
       "503           20        100.0    15602            7            8       1959   \n",
       "87           160         40.0     3951            6            5       2009   \n",
       "500          160         21.0     1890            6            5       1973   \n",
       "1332          20         67.0     8877            4            6       1938   \n",
       "658           50         78.0    17503            6            5       1948   \n",
       "...          ...          ...      ...          ...          ...        ...   \n",
       "1228         120         65.0     8769            9            5       2008   \n",
       "1077          20         70.0    15870            5            5       1969   \n",
       "1318          20         70.0    14781            8            5       2001   \n",
       "723           50         60.0     8172            4            6       1954   \n",
       "815           20         48.0    12137            7            5       1998   \n",
       "\n",
       "      YearRemodAdd  MasVnrArea  BsmtFinSF1  BsmtFinSF2  ...  \\\n",
       "503           1997         0.0      1247.0         0.0  ...   \n",
       "87            2009        76.0         0.0         0.0  ...   \n",
       "500           1973       285.0       356.0         0.0  ...   \n",
       "1332          1958         0.0       690.0         0.0  ...   \n",
       "658           1950         0.0         0.0         0.0  ...   \n",
       "...            ...         ...         ...         ...  ...   \n",
       "1228          2008       766.0      1540.0         0.0  ...   \n",
       "1077          1969         0.0        75.0       791.0  ...   \n",
       "1318          2002       178.0         0.0         0.0  ...   \n",
       "723           1972         0.0         0.0         0.0  ...   \n",
       "815           1998       442.0         0.0         0.0  ...   \n",
       "\n",
       "      SaleCondition_Partial  SaleCondition_Abnorml  Neighborhood_NAmes  \\\n",
       "503                       0                      0                   0   \n",
       "87                        1                      0                   0   \n",
       "500                       0                      0                   0   \n",
       "1332                      0                      0                   0   \n",
       "658                       0                      1                   1   \n",
       "...                     ...                    ...                 ...   \n",
       "1228                      1                      0                   0   \n",
       "1077                      0                      1                   1   \n",
       "1318                      0                      0                   0   \n",
       "723                       0                      0                   0   \n",
       "815                       0                      0                   0   \n",
       "\n",
       "      Neighborhood_CollgCr  Neighborhood_OldTown  Neighborhood_Edwards  \\\n",
       "503                      0                     0                     0   \n",
       "87                       0                     0                     0   \n",
       "500                      0                     0                     0   \n",
       "1332                     0                     0                     1   \n",
       "658                      0                     0                     0   \n",
       "...                    ...                   ...                   ...   \n",
       "1228                     0                     0                     0   \n",
       "1077                     0                     0                     0   \n",
       "1318                     1                     0                     0   \n",
       "723                      0                     0                     1   \n",
       "815                      1                     0                     0   \n",
       "\n",
       "      Neighborhood_Somerst  Neighborhood_Gilbert  Neighborhood_NridgHt  \\\n",
       "503                      0                     0                     0   \n",
       "87                       1                     0                     0   \n",
       "500                      0                     0                     0   \n",
       "1332                     0                     0                     0   \n",
       "658                      0                     0                     0   \n",
       "...                    ...                   ...                   ...   \n",
       "1228                     0                     0                     1   \n",
       "1077                     0                     0                     0   \n",
       "1318                     0                     0                     0   \n",
       "723                      0                     0                     0   \n",
       "815                      0                     0                     0   \n",
       "\n",
       "      Neighborhood_Sawyer  \n",
       "503                     0  \n",
       "87                      0  \n",
       "500                     0  \n",
       "1332                    0  \n",
       "658                     0  \n",
       "...                   ...  \n",
       "1228                    0  \n",
       "1077                    0  \n",
       "1318                    0  \n",
       "723                     0  \n",
       "815                     0  \n",
       "\n",
       "[1168 rows x 124 columns]"
      ]
     },
     "execution_count": 60,
     "metadata": {},
     "output_type": "execute_result"
    }
   ],
   "source": [
    "X_train"
   ]
  },
  {
   "cell_type": "code",
   "execution_count": 61,
   "metadata": {
    "id": "Kn7RlF1CA19U"
   },
   "outputs": [],
   "source": [
    "from sklearn import metrics\n",
    "\n",
    "def model_scores(true, predicted):  \n",
    "    mae = metrics.mean_absolute_error(true, predicted)\n",
    "    mse = metrics.mean_squared_error(true, predicted)\n",
    "    rmse = np.sqrt(metrics.mean_squared_error(true, predicted))\n",
    "    r2_square = metrics.r2_score(true, predicted)\n",
    "    print('MAE:', mae)\n",
    "    print('MSE:', mse)\n",
    "    print('RMSE:', rmse)\n",
    "    print('R2 Square', r2_square)\n",
    "    print('__________________________________')\n",
    "\n",
    "\n",
    "\n"
   ]
  },
  {
   "cell_type": "code",
   "execution_count": 62,
   "metadata": {
    "id": "JBP9TVkUogBg"
   },
   "outputs": [],
   "source": [
    "from sklearn.linear_model import LinearRegression\n",
    "from sklearn.tree import DecisionTreeRegressor\n",
    "from sklearn.ensemble import BaggingRegressor\n",
    "from sklearn.ensemble import GradientBoostingRegressor\n",
    "from sklearn.ensemble import RandomForestRegressor"
   ]
  },
  {
   "cell_type": "code",
   "execution_count": 63,
   "metadata": {
    "colab": {
     "base_uri": "https://localhost:8080/"
    },
    "id": "_7Zx7XvSBOqj",
    "outputId": "b9b25820-943d-49e1-83d4-0dcf029fbdcf"
   },
   "outputs": [
    {
     "name": "stdout",
     "output_type": "stream",
     "text": [
      "Training set score: 0.91\n",
      "Test set score: 0.84\n",
      "\n",
      "_____________________________________\n",
      "Test set evaluation:\n",
      "_____________________________________\n",
      "MAE: 0.10971281591514248\n",
      "MSE: 0.027513283328556078\n",
      "RMSE: 0.16587128542504298\n",
      "R2 Square 0.8385996586863312\n",
      "__________________________________\n",
      "Train set evaluation:\n",
      "_____________________________________\n",
      "MAE: 0.08487745687807621\n",
      "MSE: 0.014579750875206883\n",
      "RMSE: 0.12074663918804068\n",
      "R2 Square 0.9069203839206387\n",
      "__________________________________\n"
     ]
    }
   ],
   "source": [
    "lr= LinearRegression()\n",
    "lr.fit(X_train, y_train)\n",
    "print(\"Training set score: {:.2f}\".format(lr.score(X_train, y_train))) \n",
    "print(\"Test set score: {:.2f}\".format(lr.score(X_test, y_test)))\n",
    "print(\"\\n_____________________________________\")\n",
    "test_pred = lr.predict(X_test)\n",
    "train_pred = lr.predict(X_train)\n",
    "\n",
    "print('Test set evaluation:\\n_____________________________________')\n",
    "model_scores(y_test, test_pred)\n",
    "print('Train set evaluation:\\n_____________________________________')\n",
    "model_scores(y_train, train_pred)"
   ]
  },
  {
   "cell_type": "code",
   "execution_count": 64,
   "metadata": {
    "colab": {
     "base_uri": "https://localhost:8080/"
    },
    "id": "Mq3dl1OaBTtY",
    "outputId": "e872ec1d-5184-47dd-a66d-175009642fde"
   },
   "outputs": [
    {
     "name": "stdout",
     "output_type": "stream",
     "text": [
      "Training set score: 0.79\n",
      "Test set score: 0.75\n",
      "\n",
      "_____________________________________\n",
      "Test set evaluation:\n",
      "_____________________________________\n",
      "MAE: 0.1322919739717586\n",
      "MSE: 0.04341524391579113\n",
      "RMSE: 0.2083632499165607\n",
      "R2 Square 0.7453144685588271\n",
      "__________________________________\n",
      "Train set evaluation:\n",
      "_____________________________________\n",
      "MAE: 0.11967164371244045\n",
      "MSE: 0.03282695690706277\n",
      "RMSE: 0.18118210978753607\n",
      "R2 Square 0.7904271086580015\n",
      "__________________________________\n"
     ]
    }
   ],
   "source": [
    "from sklearn import linear_model\n",
    "lasso = linear_model.Lasso(alpha=0.1)\n",
    "lasso.fit(X_train, y_train)\n",
    "print(\"Training set score: {:.2f}\".format(lasso.score(X_train, y_train))) \n",
    "print(\"Test set score: {:.2f}\".format(lasso.score(X_test, y_test)))\n",
    "print(\"\\n_____________________________________\")\n",
    "test_pred = lasso.predict(X_test)\n",
    "train_pred = lasso.predict(X_train)\n",
    "\n",
    "print('Test set evaluation:\\n_____________________________________')\n",
    "model_scores(y_test, test_pred)\n",
    "print('Train set evaluation:\\n_____________________________________')\n",
    "model_scores(y_train, train_pred)"
   ]
  },
  {
   "cell_type": "code",
   "execution_count": 65,
   "metadata": {
    "colab": {
     "base_uri": "https://localhost:8080/"
    },
    "id": "lW6g4EeDGove",
    "outputId": "f307787b-1fbd-4193-e56c-429e7b65ea41"
   },
   "outputs": [
    {
     "name": "stdout",
     "output_type": "stream",
     "text": [
      "Training set score: 0.78\n",
      "Test set score: 0.76\n",
      "\n",
      "_____________________________________\n",
      "Test set evaluation:\n",
      "_____________________________________\n",
      "MAE: 0.13092661845950512\n",
      "MSE: 0.041227179102559755\n",
      "RMSE: 0.20304477117758968\n",
      "R2 Square 0.758150246951929\n",
      "__________________________________\n",
      "Train set evaluation:\n",
      "_____________________________________\n",
      "MAE: 0.12011351209958043\n",
      "MSE: 0.03430811939288638\n",
      "RMSE: 0.18522451077782978\n",
      "R2 Square 0.7809711147448231\n",
      "__________________________________\n"
     ]
    }
   ],
   "source": [
    "from sklearn.linear_model import ElasticNet\n",
    "enet = ElasticNet(random_state=2)\n",
    "enet.fit(X_train, y_train)\n",
    "print(\"Training set score: {:.2f}\".format(enet.score(X_train, y_train))) \n",
    "print(\"Test set score: {:.2f}\".format(enet.score(X_test, y_test)))\n",
    "print(\"\\n_____________________________________\")\n",
    "test_pred = enet.predict(X_test)\n",
    "train_pred = enet.predict(X_train)\n",
    "\n",
    "print('Test set evaluation:\\n_____________________________________')\n",
    "model_scores(y_test, test_pred)\n",
    "print('Train set evaluation:\\n_____________________________________')\n",
    "model_scores(y_train, train_pred)"
   ]
  },
  {
   "cell_type": "code",
   "execution_count": 66,
   "metadata": {
    "colab": {
     "base_uri": "https://localhost:8080/"
    },
    "id": "Vh8E9zjfG4SZ",
    "outputId": "01af167a-517d-4701-dc1a-3145d6b7ec5a"
   },
   "outputs": [
    {
     "name": "stdout",
     "output_type": "stream",
     "text": [
      "Training set score: 1.00\n",
      "Test set score: 0.71\n",
      "\n",
      "_____________________________________\n",
      "Test set evaluation:\n",
      "_____________________________________\n",
      "MAE: 0.15488208319602853\n",
      "MSE: 0.0496815357800324\n",
      "RMSE: 0.22289355257618468\n",
      "R2 Square 0.7085547102420182\n",
      "__________________________________\n",
      "Train set evaluation:\n",
      "_____________________________________\n",
      "MAE: 4.562560375171876e-18\n",
      "MSE: 8.104735327613135e-33\n",
      "RMSE: 9.002630353187415e-17\n",
      "R2 Square 1.0\n",
      "__________________________________\n"
     ]
    }
   ],
   "source": [
    "dt= DecisionTreeRegressor()\n",
    "dt.fit(X_train, y_train)\n",
    "print(\"Training set score: {:.2f}\".format(dt.score(X_train, y_train))) \n",
    "print(\"Test set score: {:.2f}\".format(dt.score(X_test, y_test)))\n",
    "print(\"\\n_____________________________________\")\n",
    "test_pred = dt.predict(X_test)\n",
    "train_pred = dt.predict(X_train)\n",
    "\n",
    "print('Test set evaluation:\\n_____________________________________')\n",
    "model_scores(y_test, test_pred)\n",
    "print('Train set evaluation:\\n_____________________________________')\n",
    "model_scores(y_train, train_pred)"
   ]
  },
  {
   "cell_type": "code",
   "execution_count": 67,
   "metadata": {
    "colab": {
     "base_uri": "https://localhost:8080/"
    },
    "id": "06kSccPHHA4J",
    "outputId": "3646d216-2c54-4c16-e413-e1d624a3cc64"
   },
   "outputs": [
    {
     "name": "stdout",
     "output_type": "stream",
     "text": [
      "Training set score: 0.97\n",
      "Test set score: 0.83\n",
      "\n",
      "_____________________________________\n",
      "Test set evaluation:\n",
      "_____________________________________\n",
      "MAE: 0.10828036785512972\n",
      "MSE: 0.029084038745845642\n",
      "RMSE: 0.17054043141098724\n",
      "R2 Square 0.8293851837200629\n",
      "__________________________________\n",
      "Train set evaluation:\n",
      "_____________________________________\n",
      "MAE: 0.04300646492772637\n",
      "MSE: 0.003990303472868799\n",
      "RMSE: 0.06316884891201358\n",
      "R2 Square 0.9745252221060671\n",
      "__________________________________\n"
     ]
    }
   ],
   "source": [
    "bg= BaggingRegressor(random_state=5)\n",
    "bg.fit(X_train, y_train)\n",
    "print(\"Training set score: {:.2f}\".format(bg.score(X_train, y_train))) \n",
    "print(\"Test set score: {:.2f}\".format(bg.score(X_test, y_test)))\n",
    "print(\"\\n_____________________________________\")\n",
    "test_pred = bg.predict(X_test)\n",
    "train_pred = bg.predict(X_train)\n",
    "\n",
    "print('Test set evaluation:\\n_____________________________________')\n",
    "model_scores(y_test, test_pred)\n",
    "print('Train set evaluation:\\n_____________________________________')\n",
    "model_scores(y_train, train_pred)"
   ]
  },
  {
   "cell_type": "code",
   "execution_count": 68,
   "metadata": {
    "colab": {
     "base_uri": "https://localhost:8080/"
    },
    "id": "o0obY5k1HFQj",
    "outputId": "e82c0ce0-8ac3-4707-be8a-dbe8c3f6b63a"
   },
   "outputs": [
    {
     "name": "stdout",
     "output_type": "stream",
     "text": [
      "Training set score: 0.96\n",
      "Test set score: 0.86\n",
      "\n",
      "_____________________________________\n",
      "Test set evaluation:\n",
      "_____________________________________\n",
      "MAE: 0.09655568845085538\n",
      "MSE: 0.02407895952502297\n",
      "RMSE: 0.15517396535831315\n",
      "R2 Square 0.8587463284767953\n",
      "__________________________________\n",
      "Train set evaluation:\n",
      "_____________________________________\n",
      "MAE: 0.05815125623754268\n",
      "MSE: 0.0059502067493660635\n",
      "RMSE: 0.07713758324815513\n",
      "R2 Square 0.9620128653387598\n",
      "__________________________________\n"
     ]
    }
   ],
   "source": [
    "gbm= GradientBoostingRegressor(random_state=123)\n",
    "gbm.fit(X_train, y_train)\n",
    "print(\"Training set score: {:.2f}\".format(gbm.score(X_train, y_train))) \n",
    "print(\"Test set score: {:.2f}\".format(gbm.score(X_test, y_test)))\n",
    "print(\"\\n_____________________________________\")\n",
    "test_pred = gbm.predict(X_test)\n",
    "train_pred =gbm.predict(X_train)\n",
    "\n",
    "print('Test set evaluation:\\n_____________________________________')\n",
    "model_scores(y_test, test_pred)\n",
    "print('Train set evaluation:\\n_____________________________________')\n",
    "model_scores(y_train, train_pred)"
   ]
  },
  {
   "cell_type": "code",
   "execution_count": 69,
   "metadata": {
    "colab": {
     "base_uri": "https://localhost:8080/"
    },
    "id": "C7l9u0I4HSCs",
    "outputId": "c4a6a78b-2dd2-44a3-ccb1-fc30f2bae4c0"
   },
   "outputs": [
    {
     "name": "stdout",
     "output_type": "stream",
     "text": [
      "Training set score: 0.98\n",
      "Test set score: 0.85\n",
      "\n",
      "_____________________________________\n",
      "Test set evaluation:\n",
      "_____________________________________\n",
      "MAE: 0.1022119247782257\n",
      "MSE: 0.026047971184513668\n",
      "RMSE: 0.16139383874396715\n",
      "R2 Square 0.8471955749699411\n",
      "__________________________________\n",
      "Train set evaluation:\n",
      "_____________________________________\n",
      "MAE: 0.03613335493853309\n",
      "MSE: 0.0026833030651177772\n",
      "RMSE: 0.05180060873308129\n",
      "R2 Square 0.9828693356104967\n",
      "__________________________________\n"
     ]
    }
   ],
   "source": [
    "rf= RandomForestRegressor(random_state=5)\n",
    "rf.fit(X_train, y_train)\n",
    "print(\"Training set score: {:.2f}\".format(rf.score(X_train, y_train))) \n",
    "print(\"Test set score: {:.2f}\".format(rf.score(X_test, y_test)))\n",
    "print(\"\\n_____________________________________\")\n",
    "test_pred = rf.predict(X_test)\n",
    "train_pred =rf.predict(X_train)\n",
    "\n",
    "print('Test set evaluation:\\n_____________________________________')\n",
    "model_scores(y_test, test_pred)\n",
    "print('Train set evaluation:\\n_____________________________________')\n",
    "model_scores(y_train, train_pred)"
   ]
  },
  {
   "cell_type": "code",
   "execution_count": 70,
   "metadata": {
    "colab": {
     "base_uri": "https://localhost:8080/"
    },
    "id": "QaBTPtrfHaO6",
    "outputId": "c65021b3-88ff-48bd-a916-fb3422b75c33"
   },
   "outputs": [
    {
     "name": "stdout",
     "output_type": "stream",
     "text": [
      "Training set score: 0.87\n",
      "Test set score: 0.80\n",
      "\n",
      "_____________________________________\n",
      "Test set evaluation:\n",
      "_____________________________________\n",
      "MAE: 0.12822431832216666\n",
      "MSE: 0.033847797047488346\n",
      "RMSE: 0.18397770801781488\n",
      "R2 Square 0.8014396925680511\n",
      "__________________________________\n",
      "Train set evaluation:\n",
      "_____________________________________\n",
      "MAE: 0.1153383871932556\n",
      "MSE: 0.019938666070064937\n",
      "RMSE: 0.14120434154113298\n",
      "R2 Square 0.8727081553847266\n",
      "__________________________________\n"
     ]
    }
   ],
   "source": [
    "from sklearn.ensemble import AdaBoostRegressor\n",
    "ada= AdaBoostRegressor(random_state=5)\n",
    "ada.fit(X_train, y_train)\n",
    "print(\"Training set score: {:.2f}\".format(ada.score(X_train, y_train))) \n",
    "print(\"Test set score: {:.2f}\".format(ada.score(X_test, y_test)))\n",
    "print(\"\\n_____________________________________\")\n",
    "test_pred = ada.predict(X_test)\n",
    "train_pred =ada.predict(X_train)\n",
    "\n",
    "print('Test set evaluation:\\n_____________________________________')\n",
    "model_scores(y_test, test_pred)\n",
    "print('Train set evaluation:\\n_____________________________________')\n",
    "model_scores(y_train, train_pred)"
   ]
  },
  {
   "cell_type": "markdown",
   "metadata": {
    "id": "G6TZsMdAHxkJ"
   },
   "source": [
    "From above models, **GradientBoostingRegressor** is the best fit model since it has the highest R squared value."
   ]
  }
 ],
 "metadata": {
  "colab": {
   "collapsed_sections": [],
   "name": "Copy of Copy of From scratch-House price prediction.ipynb",
   "provenance": []
  },
  "kernelspec": {
   "display_name": "Python 3 (ipykernel)",
   "language": "python",
   "name": "python3"
  },
  "language_info": {
   "codemirror_mode": {
    "name": "ipython",
    "version": 3
   },
   "file_extension": ".py",
   "mimetype": "text/x-python",
   "name": "python",
   "nbconvert_exporter": "python",
   "pygments_lexer": "ipython3",
   "version": "3.9.7"
  }
 },
 "nbformat": 4,
 "nbformat_minor": 1
}
